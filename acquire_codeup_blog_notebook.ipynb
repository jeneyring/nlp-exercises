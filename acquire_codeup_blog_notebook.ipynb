{
 "cells": [
  {
   "cell_type": "markdown",
   "id": "d39fa399",
   "metadata": {},
   "source": [
    "# Exercise Notebook for Codeup blog homework:"
   ]
  },
  {
   "cell_type": "code",
   "execution_count": 47,
   "id": "a8de7009",
   "metadata": {},
   "outputs": [],
   "source": [
    "import pandas as pd\n",
    "from requests import get\n",
    "from bs4 import BeautifulSoup\n",
    "import os"
   ]
  },
  {
   "cell_type": "markdown",
   "id": "50ff1355",
   "metadata": {},
   "source": [
    "### Exercise 1)\n",
    "Visit Codeup's Blog and record the urls for at least 5 distinct blog posts. For each post, you should scrape at least the post's title and content.\n",
    "\n",
    "Encapsulate your work in a function named get_blog_articles that will return a list of dictionaries, with each dictionary representing one article. The shape of each dictionary should look like this:\n",
    "\n",
    "{\n",
    "    'title': 'the title of the article',\n",
    "    'content': 'the full text content of the article'\n",
    "}\n"
   ]
  },
  {
   "cell_type": "code",
   "execution_count": 2,
   "id": "3dd1dead",
   "metadata": {},
   "outputs": [],
   "source": [
    "#first grabbing 5 of Codeup's Blogs url:\n",
    "url1 = \"https://codeup.com/featured/what-jobs-can-you-get-after-a-coding-bootcamp-part-2-cloud-administration/\"\n",
    "url2 = 'https://codeup.com/data-science/jobs-after-a-coding-bootcamp-part-1-data-science/'\n",
    "url3 = 'https://codeup.com/workshops/san-antonio/in-person-workshop-learn-to-code-javascript-on-7-26/'\n",
    "url4 = 'https://codeup.com/codeup-news/inclusion-at-codeup-during-pride-month-and-always/'\n",
    "url5 = 'https://codeup.com/workshops/codeup-dallas-how-to-succeed-at-a-coding-bootcamp-on-june-9th/'\n",
    "#headers let others know who you are:\n",
    "headers = {'User-Agent': 'Codeup Data Science Student'} # Some websites don't accept the pyhon-requests default user-agent"
   ]
  },
  {
   "cell_type": "code",
   "execution_count": 3,
   "id": "65cd4175",
   "metadata": {},
   "outputs": [
    {
     "data": {
      "text/plain": [
       "<Response [200]>"
      ]
     },
     "execution_count": 3,
     "metadata": {},
     "output_type": "execute_result"
    }
   ],
   "source": [
    "#grabbing url1 content:\n",
    "response = get(url1, headers=headers)\n",
    "response"
   ]
  },
  {
   "cell_type": "code",
   "execution_count": 5,
   "id": "18ea6478",
   "metadata": {},
   "outputs": [],
   "source": [
    "#checking that html is there:\n",
    "#print(response.text)[:400]"
   ]
  },
  {
   "cell_type": "code",
   "execution_count": 6,
   "id": "c4cf9bdf",
   "metadata": {},
   "outputs": [],
   "source": [
    "# Make a soup variable holding the response content\n",
    "soup = BeautifulSoup(response.content, 'html.parser')"
   ]
  },
  {
   "cell_type": "code",
   "execution_count": 7,
   "id": "2c47ca57",
   "metadata": {},
   "outputs": [
    {
     "data": {
      "text/plain": [
       "<h1 class=\"entry-title\">What Jobs Can You Get After a Coding Bootcamp? Part 2: Cloud Administration</h1>"
      ]
     },
     "execution_count": 7,
     "metadata": {},
     "output_type": "execute_result"
    }
   ],
   "source": [
    "#grabbing title of article:\n",
    "article_title = \"#post-18869 > div:nth-child(1) > h1\"\n",
    "soup.select(article_title)[0]"
   ]
  },
  {
   "cell_type": "code",
   "execution_count": 8,
   "id": "0eb259e6",
   "metadata": {},
   "outputs": [
    {
     "data": {
      "text/plain": [
       "'What Jobs Can You Get After a Coding Bootcamp? Part 2: Cloud Administration'"
      ]
     },
     "execution_count": 8,
     "metadata": {},
     "output_type": "execute_result"
    }
   ],
   "source": [
    "#using info from title, such as class and .find:\n",
    "title = soup.find('h1', class_='entry-title').text\n",
    "title"
   ]
  },
  {
   "cell_type": "code",
   "execution_count": 9,
   "id": "64abf756",
   "metadata": {},
   "outputs": [
    {
     "data": {
      "text/plain": [
       "'Have you been considering a career in Cloud Administration, but have no idea what your job title or potential salary could be? Continue reading below to find out! In this mini-series, we will take each of our programs here at Codeup: Data Science, Web Development, and Cloud Administration, and outline respectively potential job titles, as well as entry-level salaries.*\\xa0Let’s discuss Cloud Administration. Program Overview At Codeup, we offer a 15-week Cloud Administration program, which was derived from our previous two programs: Systems Engineering and Cyber Cloud. We combined the best of both and blended hands-on practical knowledge with skilled instructors to create the Cloud Administration program. Upon completing this program, you’ll have the opportunity to take on two exams for certifications: Amazon Web Services (AWS) Cloud Practitioner and AWS Solutions Architect Associate.\\xa0 Potential Jobs According to A Cloud Guru, with an AWS Certification you’ll be equipped with the knowledge and experience to secure a job as the following: 1. Cloud Architect As a Cloud Architect, you will double as an IT specialist responsible for your organization’s cloud infrastructure. This includes system monitoring, computing strategy, planning, building and deployment. An entry-level Cloud Architect can make an estimated $93,892 annually according to Glassdoor.\\xa0 2. Cloud Developer A Cloud Developer’s main duties align with a software developer’s. The differentiating factor is a Cloud Developer operates virtually with cloud computing technology. This may include the design, analysis and maintenance of a company’s cloud infrastructure. An entry-level Cloud Developer can make an estimated $89,652 annually according to Glassdoor.\\xa0 3. Cloud Systems Administrator A Cloud Systems Administrator can be expected to provide insight on cloud systems, specifically working with IT to provide assistance and resolve operational issues. An entry-level Cloud Systems Administrator can make an estimated $64,805 annually according to Glassdoor. Honorable Mention A few additional roles to consider with AWS Certification include:\\xa0  Cloud DevOps Engineer- Estimated Entry-Level Salary $88,563 Cloud Security Engineer- Estimated Entry-Level Salary $85,111 Cloud Data Architect- Estimated Entry-Level Salary $91,598 Cloud Consultant- Estimated Entry-Level Salary $72,474  Interested in the other parts of this mini-series? Check them out below!  Part 1: Data Science Part 3: Web Development (Coming Soon!)\\xa0  *Disclaimer: All information presented in this article is by no means guaranteed by completing a Codeup program. Salaries and duties vary based on factors such as company, location, and experience. These salaries are estimates based on San Antonio, TX data, and these duties are general and may not be exact for every position.'"
      ]
     },
     "execution_count": 9,
     "metadata": {},
     "output_type": "execute_result"
    }
   ],
   "source": [
    "#looking at website, I found the class title section and what tag comes before (div)\n",
    "#the spacing has \\n. The text needs to be stripped of the html symbols and then \\n replaced with a space.\n",
    "content = soup.find('div', class_='entry-content').text.strip().replace('\\n',' ')\n",
    "content"
   ]
  },
  {
   "cell_type": "code",
   "execution_count": 10,
   "id": "4db8e668",
   "metadata": {},
   "outputs": [],
   "source": [
    "#creating a function that pulls codeup blog urls and reassigns title and content into a dictionary:\n",
    "\n",
    "def get_blog_articles(url):\n",
    "    \"\"\"this function pulls codeup blog urls and reassigns the tile and content of the blog\n",
    "    into a dicitionary\"\"\"\n",
    "    url = url\n",
    "    #establishing a header for access:\n",
    "    headers = {'User-Agent': 'Codeup Data Science Student'} \n",
    "    response = get(url, headers=headers)\n",
    "    \n",
    "    # Make a soup variable holding the response content\n",
    "    soup = BeautifulSoup(response.content, 'html.parser')\n",
    "    \n",
    "    #creating the dictionary\n",
    "    output = {}\n",
    "    output['title'] = soup.find('h1', class_='entry-title').text\n",
    "    output['content'] = soup.find('div', class_='entry-content').text.strip().replace('\\n',' ')\n",
    "    \n",
    "    return output"
   ]
  },
  {
   "cell_type": "code",
   "execution_count": 11,
   "id": "ff8e53de",
   "metadata": {},
   "outputs": [
    {
     "data": {
      "text/plain": [
       "{'title': 'What Jobs Can You Get After a Coding Bootcamp? Part 2: Cloud Administration',\n",
       " 'content': 'Have you been considering a career in Cloud Administration, but have no idea what your job title or potential salary could be? Continue reading below to find out! In this mini-series, we will take each of our programs here at Codeup: Data Science, Web Development, and Cloud Administration, and outline respectively potential job titles, as well as entry-level salaries.*\\xa0Let’s discuss Cloud Administration. Program Overview At Codeup, we offer a 15-week Cloud Administration program, which was derived from our previous two programs: Systems Engineering and Cyber Cloud. We combined the best of both and blended hands-on practical knowledge with skilled instructors to create the Cloud Administration program. Upon completing this program, you’ll have the opportunity to take on two exams for certifications: Amazon Web Services (AWS) Cloud Practitioner and AWS Solutions Architect Associate.\\xa0 Potential Jobs According to A Cloud Guru, with an AWS Certification you’ll be equipped with the knowledge and experience to secure a job as the following: 1. Cloud Architect As a Cloud Architect, you will double as an IT specialist responsible for your organization’s cloud infrastructure. This includes system monitoring, computing strategy, planning, building and deployment. An entry-level Cloud Architect can make an estimated $93,892 annually according to Glassdoor.\\xa0 2. Cloud Developer A Cloud Developer’s main duties align with a software developer’s. The differentiating factor is a Cloud Developer operates virtually with cloud computing technology. This may include the design, analysis and maintenance of a company’s cloud infrastructure. An entry-level Cloud Developer can make an estimated $89,652 annually according to Glassdoor.\\xa0 3. Cloud Systems Administrator A Cloud Systems Administrator can be expected to provide insight on cloud systems, specifically working with IT to provide assistance and resolve operational issues. An entry-level Cloud Systems Administrator can make an estimated $64,805 annually according to Glassdoor. Honorable Mention A few additional roles to consider with AWS Certification include:\\xa0  Cloud DevOps Engineer- Estimated Entry-Level Salary $88,563 Cloud Security Engineer- Estimated Entry-Level Salary $85,111 Cloud Data Architect- Estimated Entry-Level Salary $91,598 Cloud Consultant- Estimated Entry-Level Salary $72,474  Interested in the other parts of this mini-series? Check them out below!  Part 1: Data Science Part 3: Web Development (Coming Soon!)\\xa0  *Disclaimer: All information presented in this article is by no means guaranteed by completing a Codeup program. Salaries and duties vary based on factors such as company, location, and experience. These salaries are estimates based on San Antonio, TX data, and these duties are general and may not be exact for every position.'}"
      ]
     },
     "execution_count": 11,
     "metadata": {},
     "output_type": "execute_result"
    }
   ],
   "source": [
    "#insert each url into function:\n",
    "get_blog_articles(url1)"
   ]
  },
  {
   "cell_type": "code",
   "execution_count": 12,
   "id": "105feebf",
   "metadata": {},
   "outputs": [
    {
     "data": {
      "text/plain": [
       "{'title': 'What Jobs Can You Get After a Coding Bootcamp? Part 1: Data Science',\n",
       " 'content': 'If you are interested in embarking on a career in tech, you’re probably wondering what your new job title could be, and even what your salary might look like.*\\xa0In this mini-series, we will take each of our programs here at Codeup: Data Science, Web Development, and Cloud Administration, and outline respectively potential job titles, as well as entry-level salaries.\\xa0Today we will be diving into our Data Science program, with four potential job titles you could take on! Program Overview\\xa0 During this 20-week program, you will have the opportunity to take your career to new heights with data science being one of the most needed jobs in tech. You’ll gather data, then clean it, explore it for trends, and apply machine learning models to make predictions. Upon completing this program, you will know how to turn insights into actionable recommendations. You’ll be a huge asset to any company, having all the technical skills to become a data scientist with projects upon projects of experience under your belt.\\xa0 1. Data Scientist\\xa0 Essentially, a Data Scientist is responsible for analyzing how a business performs to ensure the business stays competitive and relevant. They review the data for deeper meaning and examine it for patterns in an effort to create solutions to business problems. According to Zip Recruiter, the average entry-level salary for a Data Scientist in Texas is $60,677. 2. Data Analyst A Data Analyst finds ways to solve a business’ problems through raw data analysis. They are then responsible for sharing this information with management and stakeholders. According to Indeed, the average entry-level salary for a Data Analyst is $60,332. 3. Machine Learning Engineer\\xa0 A Machine Learning (ML) Engineer is usually on a Data Science team. They are responsible for artificial intelligence, and its functions as well as making predictions on other machine learning capabilities. They will create ML prototypes and models, then test and retrain where necessary. According to Salary.com, the average entry-level salary for a ML Engineer is $115,795. 4. Business Intelligence Analyst\\xa0 A Business Intelligence Analyst, also known as a BI Analyst is responsible for understanding computer programming languages. Their primary goal is to give accurate insight to decision-makers regarding the market, productivity, competition, and customer responses. According to Payscale, the average entry-level salary for a BI Analyst is $58,627. We understand changing careers can be scary. If you chose Codeup, we will make sure you are plenty prepared to not only take on one of these roles but succeed in it.\\xa0 This program gives you more than a textbook and a bank of pre-recorded lectures. You get hands-on instruction from industry experts, along with the power to change your life.\\xa0 If you’re ready, apply today and let’s turn your dreams into reality and get your seat secured in our next Data Science cohort.\\xa0 \\xa0 *Disclaimer: All information presented in this article is by no means guaranteed by completing a Codeup program. Salaries and duties vary based on factors such as company, location, and experience. These salaries are estimates based on San Antonio, TX data, and these duties are general and may not be exact for every position.'}"
      ]
     },
     "execution_count": 12,
     "metadata": {},
     "output_type": "execute_result"
    }
   ],
   "source": [
    "#insert each url into function:\n",
    "get_blog_articles(url2)"
   ]
  },
  {
   "cell_type": "code",
   "execution_count": 13,
   "id": "0c62ef51",
   "metadata": {},
   "outputs": [
    {
     "data": {
      "text/plain": [
       "{'title': 'In-Person Workshop: Learn to Code – JavaScript on 7/26',\n",
       " 'content': 'Join us for our live in-person JavaScript crash course, where we will dig into one of the fastest-growing languages in the software development industry. It’s free and open to all – you don’t need to have any previous programming knowledge to participate.  By the end of the presentation, you will:  Have a good understanding of what programming means Know what JavaScript is and how it’s used The best part: we will get our hands dirty writing some JavaScript.   Don’t worry…we’ll walk you through every step. Come learn to code live with our very own instructor staff. Maybe this will be your jumpstart into an exciting and in-demand career…for FREE!  Must be 18+ to participate.  Parking is free on Tuesdays in downtown San Antonio.'}"
      ]
     },
     "execution_count": 13,
     "metadata": {},
     "output_type": "execute_result"
    }
   ],
   "source": [
    "#insert each url into function:\n",
    "get_blog_articles(url3)"
   ]
  },
  {
   "cell_type": "code",
   "execution_count": 14,
   "id": "fed3fca3",
   "metadata": {},
   "outputs": [
    {
     "data": {
      "text/plain": [
       "{'title': 'Inclusion at Codeup During Pride Month (and Always)',\n",
       " 'content': 'Happy Pride Month! Pride Month is a dedicated time to celebrate and support the LGBTQIA+ community. At Codeup, one of our core values is Cultivating Inclusive Growth, something that takes on many shapes, sizes, forms, and colors. From representation in tech to empowering and supporting all, let’s reflect on how we live out this core value for our LGBTQIA+ community, not just during Pride Month, but always. Cultivating Inclusive Growth We’re firm believers that the people making tech should look like the people using it, which is everyone. We’re proud to offer Pride Scholarships year round, which aim to increase, support, and promote representation of the LGBTQIA+ community in tech. However, representation is only one part of cultivating inclusive growth. We want to help create a thriving tech community where everyone feels represented, but also safe and empowered. In a 2019 survey conducted by Blind, 83% of LGBQ technologists and 78% of trans or gender non-conforming technologists reported that they felt safe in the workplace. In 2020, those numbers dropped to 76% and 64%, respectively. Why the drop? Maybe recent pushes for representation in tech weren’t followed up with efforts to truly cultivate inclusivity and growth. Codeup Initiatives To cultivate inclusive growth, we don’t stop at representation. We also empower and support our community so that no one feels unsafe. Our internal DEI Taskforce empowers our staff with resources and conversations that aim to create a diverse culture of support, safety, and inclusivity for each other and our students. Equipped with this knowledge, our staff can cultivate inclusive growth from the first time they interact with an applicant all the way until they get placed into a new job. They may have even felt empowered just by seeing our students and staff sporting their Pride t-shirts around town.\\xa0 Not only do we want the people making tech to look like the people using it, we also want them to feel safe and empowered to do so. If you’re looking for a career in tech, let us empower you every step of the way! First, apply now. Then, apply for our Pride Scholarship.'}"
      ]
     },
     "execution_count": 14,
     "metadata": {},
     "output_type": "execute_result"
    }
   ],
   "source": [
    "#insert each url into function:\n",
    "get_blog_articles(url4)"
   ]
  },
  {
   "cell_type": "code",
   "execution_count": 15,
   "id": "80ef7313",
   "metadata": {},
   "outputs": [
    {
     "data": {
      "text/plain": [
       "{'title': 'Codeup Dallas: How to Succeed at a Coding Bootcamp on June 9th',\n",
       " 'content': 'This event is the perfect opportunity for people that have been wondering what to expect in a coding bootcamp and how to make the most of it. This event is for everyone, but especially great for recently admitted students and applicants still working through the admissions process, and/or those considering whether or not to take the leap into a coding bootcamp! We’ve seen hundreds of people come through our bootcamp – hear the keys to success (and common pitfalls) we’ve seen repeated over and over!  Hosted by: Dimitri Antoniou, VP of Strategic Initiatives  This event in person at our brand new Dallas campus!'}"
      ]
     },
     "execution_count": 15,
     "metadata": {},
     "output_type": "execute_result"
    }
   ],
   "source": [
    "#insert each url into function:\n",
    "get_blog_articles(url5)"
   ]
  },
  {
   "cell_type": "markdown",
   "id": "f7ea0a03",
   "metadata": {},
   "source": [
    "_______________________________"
   ]
  },
  {
   "cell_type": "markdown",
   "id": "5a07aa18",
   "metadata": {},
   "source": [
    "### Exercise 2)\n",
    "We will now be scraping text data from inshorts, a website that provides a brief overview of many different topics.\n",
    "\n",
    "Write a function that scrapes the news articles for the following topics:\n",
    "\n",
    "- Business\n",
    "- Sports\n",
    "- Technology\n",
    "- Entertainment\n",
    "\n",
    "<br>The end product of this should be a function named `get_news_articles` that returns a list of dictionaries, where each dictionary has this shape:<br>\n",
    "{<br>\n",
    "    'title': 'The article title',<br>\n",
    "    'content': 'The article content',<br>\n",
    "    'category': 'business' # for example<br>\n",
    "}\n"
   ]
  },
  {
   "cell_type": "markdown",
   "id": "56fc5f22",
   "metadata": {},
   "source": [
    "### Step One: \n",
    "Start by inspecting the website in your browser. Figure out which elements will be useful."
   ]
  },
  {
   "cell_type": "markdown",
   "id": "b2de71af",
   "metadata": {},
   "source": [
    "The elements I know that I want to use in scraping the news articles by category (AND not having to grab the original content of each article since the inshorts website redirects to various websites):\n",
    "- 1) <s>using \"div\", class = \"news-card \": to only grab the news card and their info for each topic's page.</s>\n",
    "- 1) found out that \"news-card\" had more html like buttons, css etc that I did not want, so instead just using a list of the urls to pull from:\n",
    "    - url1 = 'https://inshorts.com/en/read/business'\n",
    "    - url2 = 'https://inshorts.com/en/read/sports'\n",
    "    - url3 = 'https://inshorts.com/en/read/technology'\n",
    "    - url4 = 'https://inshorts.com/en/read/entertainment'\n",
    "\n",
    "- 2) using \"span\", itemprop = \"headline\": for title\n",
    "- 3) using \"div\", itemprop = \"articleBody\": for content\n",
    "- 4) using \"span\", class = \"author\": for author\n",
    "- 5) using \"span\", clas = \"date\": for date"
   ]
  },
  {
   "cell_type": "markdown",
   "id": "94579e0e",
   "metadata": {},
   "source": [
    "### Step Two:\n",
    "Start by creating a function that handles a single article and produces a dictionary like the one above."
   ]
  },
  {
   "cell_type": "code",
   "execution_count": 16,
   "id": "9aa4f59c",
   "metadata": {},
   "outputs": [
    {
     "data": {
      "text/plain": [
       "<Response [200]>"
      ]
     },
     "execution_count": 16,
     "metadata": {},
     "output_type": "execute_result"
    }
   ],
   "source": [
    "#creating websites parameters:\n",
    "url1 = 'https://inshorts.com/en/read/business'\n",
    "headers = {'User-Agent': 'Codeup Data Science Student'}\n",
    "    \n",
    "response = get(url1, headers=headers)\n",
    "response"
   ]
  },
  {
   "cell_type": "code",
   "execution_count": 20,
   "id": "913e865a",
   "metadata": {},
   "outputs": [],
   "source": [
    "# Make a soup variable holding the response content\n",
    "soup = BeautifulSoup(response.content, 'html.parser')"
   ]
  },
  {
   "cell_type": "code",
   "execution_count": 21,
   "id": "2b1dfcae",
   "metadata": {},
   "outputs": [],
   "source": [
    "#finding the title of the first article on the news-card page:\n",
    "cards = soup.find('div', class_='card-stack')"
   ]
  },
  {
   "cell_type": "code",
   "execution_count": 22,
   "id": "dadb9498",
   "metadata": {},
   "outputs": [],
   "source": [
    "#naming all articles from find_all and then pulling only first article:\n",
    "articles = cards.find_all('div', class_ = 'news-card')\n",
    "article = articles[0]"
   ]
  },
  {
   "cell_type": "code",
   "execution_count": 23,
   "id": "123506b8",
   "metadata": {},
   "outputs": [
    {
     "data": {
      "text/plain": [
       "<div class=\"news-card z-depth-1\" itemscope=\"\" itemtype=\"http://schema.org/NewsArticle\">\n",
       "<span content=\"\" itemid=\"https://inshorts.com/en/news/you-all-call-me-fugitive-which-court-has-ever-convicted-me-lalit-modi-1658036299750\" itemprop=\"mainEntityOfPage\" itemscope=\"\" itemtype=\"https://schema.org/WebPage\"></span>\n",
       "<span itemprop=\"author\" itemscope=\"itemscope\" itemtype=\"https://schema.org/Person\">\n",
       "<span content=\"Ridham Gambhir\" itemprop=\"name\"></span>\n",
       "</span>\n",
       "<span content=\"You all call me fugitive, which court has ever convicted me: Lalit Modi\" itemprop=\"description\"></span>\n",
       "<span itemprop=\"image\" itemscope=\"\" itemtype=\"https://schema.org/ImageObject\">\n",
       "<meta content=\"https://static.inshorts.com/inshorts/images/v1/variants/jpg/m/2022/07_jul/17_sun/img_1658035657992_729.jpg?\" itemprop=\"url\"/>\n",
       "<meta content=\"864\" itemprop=\"width\"/>\n",
       "<meta content=\"483\" itemprop=\"height\"/>\n",
       "</span>\n",
       "<span itemprop=\"publisher\" itemscope=\"itemscope\" itemtype=\"https://schema.org/Organization\">\n",
       "<span content=\"https://inshorts.com/\" itemprop=\"url\"></span>\n",
       "<span content=\"Inshorts\" itemprop=\"name\"></span>\n",
       "<span itemprop=\"logo\" itemscope=\"\" itemtype=\"https://schema.org/ImageObject\">\n",
       "<span content=\"https://assets.inshorts.com/inshorts/images/v1/variants/jpg/m/2018/11_nov/21_wed/img_1542823931298_497.jpg\" itemprop=\"url\"></span>\n",
       "<meta content=\"400\" itemprop=\"width\"/>\n",
       "<meta content=\"60\" itemprop=\"height\"/>\n",
       "</span>\n",
       "</span>\n",
       "<div class=\"news-card-image\" style=\"background-image: url('https://static.inshorts.com/inshorts/images/v1/variants/jpg/m/2022/07_jul/17_sun/img_1658035657992_729.jpg?')\">\n",
       "</div>\n",
       "<div class=\"news-card-title news-right-box\">\n",
       "<a class=\"clickable\" href=\"/en/news/you-all-call-me-fugitive-which-court-has-ever-convicted-me-lalit-modi-1658036299750\" onclick=\"track_GA_Mixpanel({'hitType': 'event', 'category': 'TitleOfNews', 'action': 'clicked', 'label': 'You%20all%20call%20me%20fugitive%2C%20which%20court%20has%20ever%20convicted%20me%3A%20Lalit%20Modi)' });\" style=\"color:#44444d!important\">\n",
       "<span itemprop=\"headline\">You all call me fugitive, which court has ever convicted me: Lalit Modi</span>\n",
       "</a>\n",
       "<div class=\"news-card-author-time news-card-author-time-in-title\">\n",
       "<a href=\"/prev/en/news/you-all-call-me-fugitive-which-court-has-ever-convicted-me-lalit-modi-1658036299750\"><span class=\"short\">short</span></a> by <span class=\"author\">Ridham Gambhir</span> / \n",
       "      <span class=\"time\" content=\"2022-07-17T05:38:19.000Z\" itemprop=\"datePublished\">11:08 am</span> on <span clas=\"date\">17 Jul 2022,Sunday</span>\n",
       "</div>\n",
       "</div>\n",
       "<div class=\"news-card-content news-right-box\">\n",
       "<div itemprop=\"articleBody\">Lalit Modi on Sunday took to Instagram to speak about various issues after he revealed his relationship with Sushmita Sen. He wrote, \"[Though you all] call me a \"fugitive\"...tell me which court has ever convicted me...None…Everyone knows how difficult it is to do business in India.\" Speaking about IPL, he said, “Everyone...knows that I did it all alone\"</div>\n",
       "<div class=\"news-card-author-time news-card-author-time-in-content\">\n",
       "<a href=\"/prev/en/news/you-all-call-me-fugitive-which-court-has-ever-convicted-me-lalit-modi-1658036299750\"><span class=\"short\">short</span></a> by <span class=\"author\">Ridham Gambhir</span> / \n",
       "      <span class=\"time\" content=\"2022-07-17T05:38:19.000Z\" itemprop=\"dateModified\">11:08 am</span> on <span class=\"date\">17 Jul</span>\n",
       "</div>\n",
       "</div>\n",
       "<div class=\"news-card-footer news-right-box\">\n",
       "<div class=\"read-more\">read more at <a class=\"source\" href=\"https://www.instagram.com/p/CgF1-KQteG6/?utm_campaign=fullarticle&amp;utm_medium=referral&amp;utm_source=inshorts \" onclick=\"track_GA_Mixpanel({'hitType': 'event', 'category': 'ReadMore', 'action': 'clicked', 'label': 'Instagram%20' });\" target=\"_blank\">Instagram </a></div>\n",
       "</div>\n",
       "</div>"
      ]
     },
     "execution_count": 23,
     "metadata": {},
     "output_type": "execute_result"
    }
   ],
   "source": [
    "#looking at first article:\n",
    "article"
   ]
  },
  {
   "cell_type": "code",
   "execution_count": 28,
   "id": "bb0b68ef",
   "metadata": {},
   "outputs": [
    {
     "data": {
      "text/plain": [
       "'You all call me fugitive, which court has ever convicted me: Lalit Modi'"
      ]
     },
     "execution_count": 28,
     "metadata": {},
     "output_type": "execute_result"
    }
   ],
   "source": [
    "#grabbing the title from news card:\n",
    "title = article.find(\"span\", itemprop = \"headline\").text\n",
    "title"
   ]
  },
  {
   "cell_type": "code",
   "execution_count": 29,
   "id": "dd5bdfd2",
   "metadata": {},
   "outputs": [
    {
     "data": {
      "text/plain": [
       "'Ridham Gambhir'"
      ]
     },
     "execution_count": 29,
     "metadata": {},
     "output_type": "execute_result"
    }
   ],
   "source": [
    "#finding the author:\n",
    "author = article.find(\"span\", class_ = \"author\").text\n",
    "author"
   ]
  },
  {
   "cell_type": "code",
   "execution_count": 34,
   "id": "44c9c43f",
   "metadata": {},
   "outputs": [
    {
     "data": {
      "text/plain": [
       "'17 Jul'"
      ]
     },
     "execution_count": 34,
     "metadata": {},
     "output_type": "execute_result"
    }
   ],
   "source": [
    "#finding the date:\n",
    "date = article.find(\"span\", class_ = \"date\").text\n",
    "date"
   ]
  },
  {
   "cell_type": "code",
   "execution_count": 35,
   "id": "f64a7049",
   "metadata": {},
   "outputs": [
    {
     "data": {
      "text/plain": [
       "'Lalit Modi on Sunday took to Instagram to speak about various issues after he revealed his relationship with Sushmita Sen. He wrote, \"[Though you all] call me a \"fugitive\"...tell me which court has ever convicted me...None…Everyone knows how difficult it is to do business in India.\" Speaking about IPL, he said, “Everyone...knows that I did it all alone\"'"
      ]
     },
     "execution_count": 35,
     "metadata": {},
     "output_type": "execute_result"
    }
   ],
   "source": [
    "#finding the article content:\n",
    "content = article.find(\"div\", itemprop = \"articleBody\").text\n",
    "content"
   ]
  },
  {
   "cell_type": "code",
   "execution_count": 36,
   "id": "c4e25c60",
   "metadata": {},
   "outputs": [
    {
     "data": {
      "text/plain": [
       "'Instagram '"
      ]
     },
     "execution_count": 36,
     "metadata": {},
     "output_type": "execute_result"
    }
   ],
   "source": [
    "#grabbing source from news card:\n",
    "source = article.find(\"a\", class_ = \"source\").text\n",
    "source"
   ]
  },
  {
   "cell_type": "code",
   "execution_count": 41,
   "id": "4e3ead3b",
   "metadata": {},
   "outputs": [],
   "source": [
    "#creating a function that grabs one inshorts article at a time\n",
    "#and reassigns title and content based on topic into a dictionary:\n",
    "\n",
    "def parse_news_article(article, category):\n",
    "    \"\"\"this function pulls inshorts news articles and reassigns the tile and content of the articles\n",
    "    by categoryinto a dicitionary\"\"\"\n",
    "    \n",
    "     #creating the dictionary\n",
    "    output = {}\n",
    "    \n",
    "    output['title'] = article.find(\"span\", itemprop = \"headline\").text.strip()\n",
    "    output['content'] = article.find(\"div\", itemprop = \"articleBody\").text\n",
    "    output['author'] = article.find(\"span\", class_ = \"author\").text\n",
    "    output['date'] = article.find(\"span\", class_ = \"date\").text\n",
    "    output['source'] = article.find(\"a\", class_ = \"source\")\n",
    "    output['category'] = category\n",
    "    \n",
    "    return output"
   ]
  },
  {
   "cell_type": "code",
   "execution_count": 42,
   "id": "b81f8529",
   "metadata": {},
   "outputs": [
    {
     "data": {
      "text/plain": [
       "{'title': 'You all call me fugitive, which court has ever convicted me: Lalit Modi',\n",
       " 'content': 'Lalit Modi on Sunday took to Instagram to speak about various issues after he revealed his relationship with Sushmita Sen. He wrote, \"[Though you all] call me a \"fugitive\"...tell me which court has ever convicted me...None…Everyone knows how difficult it is to do business in India.\" Speaking about IPL, he said, “Everyone...knows that I did it all alone\"',\n",
       " 'author': 'Ridham Gambhir',\n",
       " 'date': '17 Jul',\n",
       " 'source': <a class=\"source\" href=\"https://www.instagram.com/p/CgF1-KQteG6/?utm_campaign=fullarticle&amp;utm_medium=referral&amp;utm_source=inshorts \" onclick=\"track_GA_Mixpanel({'hitType': 'event', 'category': 'ReadMore', 'action': 'clicked', 'label': 'Instagram%20' });\" target=\"_blank\">Instagram </a>,\n",
       " 'category': 'business'}"
      ]
     },
     "execution_count": 42,
     "metadata": {},
     "output_type": "execute_result"
    }
   ],
   "source": [
    "#testing:\n",
    "parse_news_article(article,'business')"
   ]
  },
  {
   "cell_type": "code",
   "execution_count": 43,
   "id": "9fed2947",
   "metadata": {},
   "outputs": [],
   "source": [
    "#### Modifying the above to dictionary all articles into one page:\n",
    "\n",
    "def parse_news_page(category):\n",
    "    url = \"https://inshorts.com/en/read/\"+category\n",
    "    response = get(url)\n",
    "    soup = BeautifulSoup(response.text)\n",
    "    \n",
    "    cards = soup.select('.news-card')\n",
    "    articles = []\n",
    "    \n",
    "    for card in cards:\n",
    "        articles.append(parse_news_article(card, category))\n",
    "        \n",
    "    return articles"
   ]
  },
  {
   "cell_type": "code",
   "execution_count": 44,
   "id": "df07b7ac",
   "metadata": {},
   "outputs": [
    {
     "data": {
      "text/plain": [
       "[{'title': 'You all call me fugitive, which court has ever convicted me: Lalit Modi',\n",
       "  'content': 'Lalit Modi on Sunday took to Instagram to speak about various issues after he revealed his relationship with Sushmita Sen. He wrote, \"[Though you all] call me a \"fugitive\"...tell me which court has ever convicted me...None…Everyone knows how difficult it is to do business in India.\" Speaking about IPL, he said, “Everyone...knows that I did it all alone\"',\n",
       "  'author': 'Ridham Gambhir',\n",
       "  'date': '17 Jul',\n",
       "  'source': <a class=\"source\" href=\"https://www.instagram.com/p/CgF1-KQteG6/?utm_campaign=fullarticle&amp;utm_medium=referral&amp;utm_source=inshorts \" onclick=\"track_GA_Mixpanel({'hitType': 'event', 'category': 'ReadMore', 'action': 'clicked', 'label': 'Instagram%20' });\" target=\"_blank\">Instagram </a>,\n",
       "  'category': 'business'},\n",
       " {'title': \"World's biggest NFT marketplace OpenSea fires 20% staff citing 'crypto winter'\",\n",
       "  'content': 'The world\\'s first and biggest NFT marketplace OpenSea has fired 20% of its employees citing \"cryptocurrency winter\" and \"broad macroeconomic instability\". CEO Devin Finzer shared the news on Twitter and said the affected employees will be provided with a generous severance and healthcare coverage into 2023. He added that the company will also help in the placement of these employees. ',\n",
       "  'author': 'Ridham Gambhir',\n",
       "  'date': '16 Jul',\n",
       "  'source': <a class=\"source\" href=\"https://www.independent.co.uk/tech/nft-opensea-market-place-crypto-winter-bitcoin-b2124169.html?utm_campaign=fullarticle&amp;utm_medium=referral&amp;utm_source=inshorts \" onclick=\"track_GA_Mixpanel({'hitType': 'event', 'category': 'ReadMore', 'action': 'clicked', 'label': 'The%20Independent' });\" target=\"_blank\">The Independent</a>,\n",
       "  'category': 'business'},\n",
       " {'title': 'BCCI had ₹40 cr in bank when I joined & ₹47,680 cr when I was banned: Lalit',\n",
       "  'content': 'In an Instagram post, Lalit Modi asserted that he neither took any government favour nor any bribes from anyone. He added, “I was born with a diamond spoon...When I joined BCCI, it had ₹40 crore in the bank. I joined on my birthday on November 29, 2005. Guess what was in the bank when I was banned - ₹47,680 crore.\"',\n",
       "  'author': 'Ridham Gambhir',\n",
       "  'date': '17 Jul',\n",
       "  'source': <a class=\"source\" href=\"https://www.instagram.com/p/CgF1-KQteG6/?utm_campaign=fullarticle&amp;utm_medium=referral&amp;utm_source=inshorts \" onclick=\"track_GA_Mixpanel({'hitType': 'event', 'category': 'ReadMore', 'action': 'clicked', 'label': 'Instagram' });\" target=\"_blank\">Instagram</a>,\n",
       "  'category': 'business'},\n",
       " {'title': 'A fighter to the core: Mahindra praises PV Sindhu after she wins Singapore Open',\n",
       "  'content': 'Businessman Anand Mahindra took to Twitter to praise PV Sindhu after she won the Singapore Open. Sharing a tweet by Doordarshan Sports which had an old image of Sindhu, Mahindra wrote, \"That’s not just her facial expression, but the expression of her soul. A fighter to the core...Never getting demoralised by a slump. Teaching us how to rise again.\"',\n",
       "  'author': 'Ridham Gambhir',\n",
       "  'date': '17 Jul',\n",
       "  'source': <a class=\"source\" href=\"https://twitter.com/anandmahindra/status/1548560347463725062?utm_campaign=fullarticle&amp;utm_medium=referral&amp;utm_source=inshorts \" onclick=\"track_GA_Mixpanel({'hitType': 'event', 'category': 'ReadMore', 'action': 'clicked', 'label': 'Twitter' });\" target=\"_blank\">Twitter</a>,\n",
       "  'category': 'business'},\n",
       " {'title': \"11 SEBI officials' email accounts hacked & used to send 34 emails, FIR filed\",\n",
       "  'content': 'Mumbai police has filed an FIR after the Securities and Exchange Board of India (SEBI) approached them, alleging the email accounts of its 11 officials had been hacked and used to send as many as 34 emails by unknown persons. \"It was a small incident. CERT-IN is fully in the loop. No sensitive data was lost,\" the markets regulator said.',\n",
       "  'author': 'Hiral Goyal',\n",
       "  'date': '17 Jul',\n",
       "  'source': <a class=\"source\" href=\"https://www.hindustantimes.com/india-news/email-accounts-of-11-sebi-officials-hacked-fir-registered-police-101657996692933-amp.html?utm_campaign=fullarticle&amp;utm_medium=referral&amp;utm_source=inshorts \" onclick=\"track_GA_Mixpanel({'hitType': 'event', 'category': 'ReadMore', 'action': 'clicked', 'label': 'Hindustan%20Times' });\" target=\"_blank\">Hindustan Times</a>,\n",
       "  'category': 'business'},\n",
       " {'title': 'It is not a sacrifice at all: Bill Gates on plan to give away all his wealth',\n",
       "  'content': 'Microsoft Co-founder Bill Gates, who plans to give away all his wealth, said, \"My giving this money is not a sacrifice at all.\" He added, \"I feel privileged to be involved in tackling these great challenges...and I believe I have an obligation to return my resources to society.\" Gates is currently the world\\'s fourth richest person with $113 billion wealth.',\n",
       "  'author': 'Hiral Goyal',\n",
       "  'date': '17 Jul',\n",
       "  'source': <a class=\"source\" href=\"https://www.hindustantimes.com/world-news/bill-gates-to-transfer-20-billion-to-his-non-profit-plan-to-give-all-wealth-101657868424218-amp.html?utm_campaign=fullarticle&amp;utm_medium=referral&amp;utm_source=inshorts \" onclick=\"track_GA_Mixpanel({'hitType': 'event', 'category': 'ReadMore', 'action': 'clicked', 'label': 'Hindustan%20Times' });\" target=\"_blank\">Hindustan Times</a>,\n",
       "  'category': 'business'},\n",
       " {'title': \"Twitter's lawsuit against Musk gets 90-min 1st court hearing on July 19\",\n",
       "  'content': \"Twitter’s lawsuit against Tesla CEO Elon Musk over terminating the $44 billion acquisition deal will be first heard in court on July 19. Kathaleen McCormick, the Chancellor of Delaware's Court of Chancery, has set a 90-minute hearing. Notably, Twitter has requested that the trial begins in September because the merger agreement with Musk terminates on October 25.\",\n",
       "  'author': 'Ridham Gambhir',\n",
       "  'date': '16 Jul',\n",
       "  'source': <a class=\"source\" href=\"https://www.reuters.com/markets/deals/judge-sets-first-hearing-twitter-lawsuits-against-elon-musk-2022-07-15/?utm_campaign=fullarticle&amp;utm_medium=referral&amp;utm_source=inshorts \" onclick=\"track_GA_Mixpanel({'hitType': 'event', 'category': 'ReadMore', 'action': 'clicked', 'label': 'Reuters' });\" target=\"_blank\">Reuters</a>,\n",
       "  'category': 'business'},\n",
       " {'title': \"Unjustifiable request: Musk files motion against Twitter's bid to fast-track trial\",\n",
       "  'content': 'Tesla CEO Elon Musk has filed a motion opposing Twitter\\'s request to fast-track a trial over the $44 billion deal, terming it an \"unjustifiable request\". While Twitter has requested the trial begin in September because the merger agreement with Musk terminates on October 25, Musk has requested a trial date on or after February 13, 2023. ',\n",
       "  'author': 'Ridham Gambhir',\n",
       "  'date': '16 Jul',\n",
       "  'source': <a class=\"source\" href=\"https://www.reuters.com/technology/elon-musk-seeks-block-twitters-request-expedited-trial-wsj-2022-07-15/?utm_campaign=fullarticle&amp;utm_medium=referral&amp;utm_source=inshorts \" onclick=\"track_GA_Mixpanel({'hitType': 'event', 'category': 'ReadMore', 'action': 'clicked', 'label': 'Reuters' });\" target=\"_blank\">Reuters</a>,\n",
       "  'category': 'business'},\n",
       " {'title': \"Twitter's sudden speed for trial after 2 months of foot-dragging is a tactic: Musk\",\n",
       "  'content': 'Tesla CEO Elon Musk has opposed Twitter\\'s request for a fast-track trial over the $44 billion deal termination. In a filing, Musk said, \"Twitter\\'s sudden request for warp speed after two months of foot-dragging...is its latest tactic to shroud the truth about spam accounts long enough to railroad defendants into closing.\" Twitter has requested that the trial begin in September. \\n',\n",
       "  'author': 'Ridham Gambhir',\n",
       "  'date': '16 Jul',\n",
       "  'source': <a class=\"source\" href=\"https://www.reuters.com/technology/elon-musk-seeks-block-twitters-request-expedited-trial-wsj-2022-07-15/?utm_campaign=fullarticle&amp;utm_medium=referral&amp;utm_source=inshorts \" onclick=\"track_GA_Mixpanel({'hitType': 'event', 'category': 'ReadMore', 'action': 'clicked', 'label': 'Reuters' });\" target=\"_blank\">Reuters</a>,\n",
       "  'category': 'business'},\n",
       " {'title': 'Amazon pauses work on 6 new US office buildings to redesign for hybrid work',\n",
       "  'content': 'Amazon is pausing construction of six new office buildings in Bellevue and Nashville as it seeks to redesign workspaces for hybrid work. \"We want to make sure that we design them in a way that meets our employees\\' needs in future,\" Amazon said. Amazon\\'s plan to create 30,000 jobs in Bellevue and Nashville won\\'t be affected by the construction pause.',\n",
       "  'author': 'Hiral Goyal',\n",
       "  'date': '16 Jul',\n",
       "  'source': <a class=\"source\" href=\"https://www.reuters.com/technology/amazon-pauses-work-six-new-us-office-buildings-weigh-hybrid-work-needs-2022-07-15/?utm_campaign=fullarticle&amp;utm_medium=referral&amp;utm_source=inshorts \" onclick=\"track_GA_Mixpanel({'hitType': 'event', 'category': 'ReadMore', 'action': 'clicked', 'label': 'Reuters' });\" target=\"_blank\">Reuters</a>,\n",
       "  'category': 'business'},\n",
       " {'title': \"How a startup should operate: Mahindra on old video of Man City's 44-pass goal\",\n",
       "  'content': 'Businessman Anand Mahindra took to Twitter to share a 2018 video of Manchester City\\'s 44-pass goal against Manchester United and wrote, \"A lesson in teamwork...But also an analogy for how a startup...needs to operate.\" He further said that success comes from going \"back and forth, trying new angles of approach and going for the kill when strategic path is clear\".',\n",
       "  'author': 'Hiral Goyal',\n",
       "  'date': '17 Jul',\n",
       "  'source': <a class=\"source\" href=\"https://twitter.com/anandmahindra/status/1548545585598251008?utm_campaign=fullarticle&amp;utm_medium=referral&amp;utm_source=inshorts \" onclick=\"track_GA_Mixpanel({'hitType': 'event', 'category': 'ReadMore', 'action': 'clicked', 'label': 'Twitter' });\" target=\"_blank\">Twitter</a>,\n",
       "  'category': 'business'},\n",
       " {'title': 'Withdraw GST on healthcare services: IMA writes letter to Finance Minister',\n",
       "  'content': 'The Indian Medical Association (IMA) has written a letter to Union Finance Minister Nirmala Sitharaman requesting to exempt healthcare services from GST. Citing various recommendations by the 47th GST Council on certain facilities that were earlier exempted from GST and will be taxed post-July 18, IMA said the cost \"will add a significant additional cost to the healthcare of people.\"',\n",
       "  'author': 'Ridham Gambhir',\n",
       "  'date': '17 Jul',\n",
       "  'source': <a class=\"source\" href=\"https://theprint.in/india/ima-urges-union-finance-minister-nirmala-sitharaman-to-make-healthcare-services-gst-free/1042317/?amp=&amp;utm_campaign=fullarticle&amp;utm_medium=referral&amp;utm_source=inshorts \" onclick=\"track_GA_Mixpanel({'hitType': 'event', 'category': 'ReadMore', 'action': 'clicked', 'label': 'The%20Print' });\" target=\"_blank\">The Print</a>,\n",
       "  'category': 'business'},\n",
       " {'title': \"Lalit shares pics with PM Modi & others amid trolling, says 'was born with diamond spoon'\",\n",
       "  'content': 'While criticising people trolling him over his relationship with Sushmita Sen, Lalit Modi shared old pictures with PM Narendra Modi, Amit Shah, UK Prince Charles, Dalai Lama, Nelson Mandela among other personalities. He said he doesn\\'t care about people calling him a fugitive, adding, \"I was born with a \\'diamond spoon\\'. I didn\\'t take a bribe or ever needed to.\"',\n",
       "  'author': 'Arshiya Chopra',\n",
       "  'date': '17 Jul',\n",
       "  'source': <a class=\"source\" href=\"https://www.hindustantimes.com/entertainment/bollywood/lalit-modi-reacts-to-trolling-after-sharing-pics-with-sushmita-sen-live-and-let-others-live-101658031456058-amp.html?utm_campaign=fullarticle&amp;utm_medium=referral&amp;utm_source=inshorts \" onclick=\"track_GA_Mixpanel({'hitType': 'event', 'category': 'ReadMore', 'action': 'clicked', 'label': 'Hindustan%20Times' });\" target=\"_blank\">Hindustan Times</a>,\n",
       "  'category': 'business'},\n",
       " {'title': 'Which household items will get costlier from tomorrow due to changes in GST rules?',\n",
       "  'content': \"Pre-packaged and labelled food items like curd, lassi and buttermilk will get costlier from July 18 as they'll attract 5% GST. Jaggery, khandsari sugar, puffed rice will no longer be exempt from GST. Kitchen utensils like knives, spoons, forks, and stationery items like pencil sharpeners, maps, globes and electrical appliances such as LED lights and fixtures will also get costlier.\",\n",
       "  'author': 'Hiral Goyal',\n",
       "  'date': '17 Jul',\n",
       "  'source': <a class=\"source\" href=\"https://www.bqprime.com/business/gst-grocery-mango-pulp-holidays-and-more-heres-what-costs-more-from-july-18?utm_campaign=fullarticle&amp;utm_medium=referral&amp;utm_source=inshorts \" onclick=\"track_GA_Mixpanel({'hitType': 'event', 'category': 'ReadMore', 'action': 'clicked', 'label': 'BQ%20Prime' });\" target=\"_blank\">BQ Prime</a>,\n",
       "  'category': 'business'},\n",
       " {'title': 'IndiGo not following maintenance procedures, technicians tell Airbus; airline replies',\n",
       "  'content': 'IndiGo\\'s technicians have written a letter to aircraft manufacturer Airbus complaining that the airline is not following standard maintenance procedures leading to risking passengers\\' safety. They said the technical staff has been on a strike for a couple of days and the airline is operating flights without proper maintenance. Meanwhile, IndiGo denied the allegations, calling them \"baseless\".',\n",
       "  'author': 'Ridham Gambhir',\n",
       "  'date': '17 Jul',\n",
       "  'source': <a class=\"source\" href=\"https://www.hindustantimes.com/india-news/indigo-not-following-upkeep-procedures-staff-tells-airbus-101657996091990-amp.html?utm_campaign=fullarticle&amp;utm_medium=referral&amp;utm_source=inshorts \" onclick=\"track_GA_Mixpanel({'hitType': 'event', 'category': 'ReadMore', 'action': 'clicked', 'label': 'Hindustan%20Times' });\" target=\"_blank\">Hindustan Times</a>,\n",
       "  'category': 'business'},\n",
       " {'title': 'Sula Vineyards to go public, files IPO papers with SEBI',\n",
       "  'content': 'Nashik-based Sula Vineyards has filed draft papers with the Securities and Exchange Board of India to raise capital through an IPO. The IPO will be entirely an offer for sale (OFS) with up to 25,546,186 equity shares put up for sale. The company has not finalised the date or price of the IPO as yet. ',\n",
       "  'author': 'Ridham Gambhir',\n",
       "  'date': '16 Jul',\n",
       "  'source': <a class=\"source\" href=\"https://www.moneycontrol.com/news/business/ipo/verlinvest-backed-sula-vineyards-raises-a-toast-to-d-street-files-ipo-papers-with-sebi-8836861.html/amp?utm_campaign=fullarticle&amp;utm_medium=referral&amp;utm_source=inshorts \" onclick=\"track_GA_Mixpanel({'hitType': 'event', 'category': 'ReadMore', 'action': 'clicked', 'label': 'Moneycontrol' });\" target=\"_blank\">Moneycontrol</a>,\n",
       "  'category': 'business'},\n",
       " {'title': 'Who are the highest-paid FMCG CEOs in India in FY22?',\n",
       "  'content': \"Marico’s MD and CEO Saugata Gupta emerged as the highest-paid FMCG CEO as his total pay in FY22 jumped by 157% from ₹14.03 crore in FY21 to ₹36.1 crore in FY22. Gupta is followed by HUL's Sanjiv Mehta at ₹22 crore salary, Nestle's Suresh Narayanan (₹18.80 crore), Dabur India's Mohit Malhotra (₹14.60 crore) and ITC's Sanjiv Puri (₹12.59 crore).\",\n",
       "  'author': 'Ridham Gambhir',\n",
       "  'date': '17 Jul',\n",
       "  'source': <a class=\"source\" href=\"https://www.moneycontrol.com/news/business/companies/saugata-gupta-is-the-highest-paid-fmcg-ceo-in-fy22-8834281.html/amp?utm_campaign=fullarticle&amp;utm_medium=referral&amp;utm_source=inshorts \" onclick=\"track_GA_Mixpanel({'hitType': 'event', 'category': 'ReadMore', 'action': 'clicked', 'label': 'Moneycontrol' });\" target=\"_blank\">Moneycontrol</a>,\n",
       "  'category': 'business'},\n",
       " {'title': 'Jet fuel prices cut by 2.2%; second reduction this year',\n",
       "  'content': 'Aviation Turbine Fuel prices were reduced by 2.2% on Saturday, reflecting a fall in international oil prices. The prices were cut by ₹3,084.94 per kilolitre to ₹1,38,147.93/kl. This is only the second reduction in rates this year. Prices had peaked at ₹1,41,232.87/kl last month. Overall, ATF rates have been hiked 11 times since the start of this year. ',\n",
       "  'author': 'Ridham Gambhir',\n",
       "  'date': '16 Jul',\n",
       "  'source': None,\n",
       "  'category': 'business'},\n",
       " {'title': 'Crypto must come under auto info-exchange mechanism: FM Sitharaman to G20',\n",
       "  'content': 'Finance Minister Nirmala Sitharaman told the group of 20 major economies to consider bringing cryptocurrencies under the ambit of the automatic exchange of information mechanism. The mechanism exists among countries to curb tax evasion. She said that investigations have shown tax evaders resorting to numerous layers of entities to mask their unaccounted wealth. ',\n",
       "  'author': 'Apurva Bharadwaj',\n",
       "  'date': '15 Jul',\n",
       "  'source': <a class=\"source\" href=\"https://www.financialexpress.com/digital-currency/auto-info-exchange-must-cover-crypto-fm-nirmala-sitharaman-tells-g20/2594812/lite/?utm_campaign=fullarticle&amp;utm_medium=referral&amp;utm_source=inshorts \" onclick=\"track_GA_Mixpanel({'hitType': 'event', 'category': 'ReadMore', 'action': 'clicked', 'label': 'Financial%20Express' });\" target=\"_blank\">Financial Express</a>,\n",
       "  'category': 'business'},\n",
       " {'title': 'Celsius becomes 3rd major crypto firm to file for bankruptcy in 3 weeks',\n",
       "  'content': 'Celsius has become the third major crypto firm to file for bankruptcy in three weeks following the collapse of hedge fund Three Arrows Capital and broker Voyager Digital. The crypto lender said the decision was part of a financial restructuring that would \"stabilise the business\". The US-based platform had suspended customer withdrawals, swaps and transfers citing \"extreme market conditions\".',\n",
       "  'author': 'Apurva Bharadwaj',\n",
       "  'date': '15 Jul',\n",
       "  'source': <a class=\"source\" href=\"https://www.standard.co.uk/business/celsius-network-bankruptcy-crypto-woes-b1012303.html?utm_campaign=fullarticle&amp;utm_medium=referral&amp;utm_source=inshorts \" onclick=\"track_GA_Mixpanel({'hitType': 'event', 'category': 'ReadMore', 'action': 'clicked', 'label': 'Evening%20Standard' });\" target=\"_blank\">Evening Standard</a>,\n",
       "  'category': 'business'},\n",
       " {'title': 'RBI likely to introduce new rules for fintech firms: Report',\n",
       "  'content': 'The Reserve Bank of India (RBI) is likely to announce new regulations for fintech companies, Moneycontrol reported. The rules will likely cover areas such as data sharing, privacy, compliance with KYC and anti-money laundering norms, the report said. This comes in the wake of complaints related to some fintechs charging usurious interest rates and other issues, the report added.',\n",
       "  'author': 'Apurva Bharadwaj',\n",
       "  'date': '15 Jul',\n",
       "  'source': <a class=\"source\" href=\"https://www.moneycontrol.com/news/business/banks/rbi-likely-to-announce-fresh-rules-for-fintechs-8834791.html/amp?utm_campaign=fullarticle&amp;utm_medium=referral&amp;utm_source=inshorts \" onclick=\"track_GA_Mixpanel({'hitType': 'event', 'category': 'ReadMore', 'action': 'clicked', 'label': 'Moneycontrol' });\" target=\"_blank\">Moneycontrol</a>,\n",
       "  'category': 'business'},\n",
       " {'title': \"States' fiscal deficit may rise to ₹8.4 lakh cr due to high capex: ICRA\",\n",
       "  'content': \"States' fiscal deficit may rise to ₹8.4 lakh crore as they've budgeted 36% higher capital expenditure during 2022-23, an ICRA report said. As many as 26 large states, except Assam, have spent ₹5 lakh crore in capex, a 34% rise from FY20, it added. In budget estimates, these states have pegged their revenue receipts at ₹35.8 lakh crore.\",\n",
       "  'author': 'Apurva Bharadwaj',\n",
       "  'date': '15 Jul',\n",
       "  'source': <a class=\"source\" href=\"https://www.moneycontrol.com/news/india/states-capex-seen-soaring-36-in-fy23-fiscal-deficit-at-rs-8-4-lakh-crore-icra-8835201.html/amp?utm_campaign=fullarticle&amp;utm_medium=referral&amp;utm_source=inshorts \" onclick=\"track_GA_Mixpanel({'hitType': 'event', 'category': 'ReadMore', 'action': 'clicked', 'label': 'Moneycontrol' });\" target=\"_blank\">Moneycontrol</a>,\n",
       "  'category': 'business'},\n",
       " {'title': '6 of top 10 most valued firms lost ₹1.68 lakh crore in m-cap last week',\n",
       "  'content': 'Among the 10 most valued firms, six companies suffered a combined loss of ₹1.68 lakh crore in their market valuation last week. While TCS took the biggest hit as its market valuation declined by ₹99,270.07 crore to reach ₹10,95,355.32 crore, it was followed by Infosys, whose valuation dropped by ₹35,133.64 crore to ₹6,01,900.14 crore.',\n",
       "  'author': 'Ridham Gambhir',\n",
       "  'date': '17 Jul',\n",
       "  'source': <a class=\"source\" href=\"https://www.moneycontrol.com/news/business/markets/six-of-top-10-firms-lose-rs-1-68-lakh-crore-in-m-cap-tcs-biggest-laggard-8838761.html/amp?utm_campaign=fullarticle&amp;utm_medium=referral&amp;utm_source=inshorts \" onclick=\"track_GA_Mixpanel({'hitType': 'event', 'category': 'ReadMore', 'action': 'clicked', 'label': 'Moneycontrol' });\" target=\"_blank\">Moneycontrol</a>,\n",
       "  'category': 'business'},\n",
       " {'title': \"Adani Ports to buy Israel's Haifa Port with local firm for $1.18 bn\",\n",
       "  'content': \"Adani Ports and Special Economic Zone have won a bid to acquire Israel's Haifa Port with local firm Gadot Group for $1.18 billion, Israel announced on Thursday. Adani Ports and Special Economic Zone will have a 70% stake and Gadot will hold the remaining 30%. Adani Ports said the acquisition will boost trade lanes with its Indian ports.\",\n",
       "  'author': 'Apurva Bharadwaj',\n",
       "  'date': '15 Jul',\n",
       "  'source': <a class=\"source\" href=\"https://www.reuters.com/markets/deals/adani-ports-boost-trade-lanes-with-joint-haifa-port-acquisition-2022-07-15/?utm_campaign=fullarticle&amp;utm_medium=referral&amp;utm_source=inshorts \" onclick=\"track_GA_Mixpanel({'hitType': 'event', 'category': 'ReadMore', 'action': 'clicked', 'label': 'Reuters' });\" target=\"_blank\">Reuters</a>,\n",
       "  'category': 'business'},\n",
       " {'title': \"Federal Bank's profit jumps 63% y-o-y to ₹600 crore, share price rises\",\n",
       "  'content': 'The share price of private sector lender Federal Bank rose by 1.54% to ₹98.80 after it reported a 63.5% increase in net profit in the April-June quarter to ₹600.66 crore. The bank had reported a profit of ₹367 crore in the same period last year. Meanwhile, its net interest income rose by 13% to ₹1,604.5 crore.',\n",
       "  'author': 'Apurva Bharadwaj',\n",
       "  'date': '15 Jul',\n",
       "  'source': <a class=\"source\" href=\"https://www.bseindia.com/stock-share-price/federal-bank-ltd/federalbnk/500469/financials-results/?utm_campaign=fullarticle&amp;utm_medium=referral&amp;utm_source=inshorts \" onclick=\"track_GA_Mixpanel({'hitType': 'event', 'category': 'ReadMore', 'action': 'clicked', 'label': 'BSE%20India' });\" target=\"_blank\">BSE India</a>,\n",
       "  'category': 'business'}]"
      ]
     },
     "execution_count": 44,
     "metadata": {},
     "output_type": "execute_result"
    }
   ],
   "source": [
    "#testing:\n",
    "parse_news_page('business')"
   ]
  },
  {
   "cell_type": "markdown",
   "id": "2610a980",
   "metadata": {},
   "source": [
    "### Creating a function that loops through all articles"
   ]
  },
  {
   "cell_type": "markdown",
   "id": "d14c1bbc",
   "metadata": {},
   "source": [
    "- create a list of my titles\n",
    "- create a list of my content\n",
    "- create a list of authors\n",
    "- create a list of dates\n",
    "- create a list of source\n",
    "- create a list of category"
   ]
  },
  {
   "cell_type": "code",
   "execution_count": 48,
   "id": "32cfbd0d",
   "metadata": {},
   "outputs": [],
   "source": [
    "#creating one function that grabs all categories and \n",
    "#puts them into one dictionary, while adding a cache of the data:\n",
    "\n",
    "def get_news_articles(use_cache = True):\n",
    "    if os.path.exists('news_articles.json') and use_cache:\n",
    "        return pd.read_json('news_articles.json')\n",
    "    \n",
    "    categories = ['business', 'sports', 'technology', 'entertainment']\n",
    "    \n",
    "    articles = []\n",
    "    \n",
    "    for category in categories:\n",
    "        print(f'Getting {category} articles')\n",
    "        articles.extend(parse_news_page(category))\n",
    "        \n",
    "    df = pd.DataFrame(articles)\n",
    "    df.to_json('news_articles.json', orient ='records')\n",
    "    return df\n",
    "    "
   ]
  },
  {
   "cell_type": "code",
   "execution_count": 49,
   "id": "f1bb58ab",
   "metadata": {},
   "outputs": [
    {
     "name": "stdout",
     "output_type": "stream",
     "text": [
      "Getting business articles\n",
      "Getting sports articles\n",
      "Getting technology articles\n",
      "Getting entertainment articles\n"
     ]
    }
   ],
   "source": [
    "#testing (note: print and function data from Kristofer Rivera)\n",
    "df = get_news_articles()"
   ]
  },
  {
   "cell_type": "code",
   "execution_count": 50,
   "id": "9d1d15f4",
   "metadata": {},
   "outputs": [
    {
     "data": {
      "text/html": [
       "<div>\n",
       "<style scoped>\n",
       "    .dataframe tbody tr th:only-of-type {\n",
       "        vertical-align: middle;\n",
       "    }\n",
       "\n",
       "    .dataframe tbody tr th {\n",
       "        vertical-align: top;\n",
       "    }\n",
       "\n",
       "    .dataframe thead th {\n",
       "        text-align: right;\n",
       "    }\n",
       "</style>\n",
       "<table border=\"1\" class=\"dataframe\">\n",
       "  <thead>\n",
       "    <tr style=\"text-align: right;\">\n",
       "      <th></th>\n",
       "      <th>title</th>\n",
       "      <th>content</th>\n",
       "      <th>author</th>\n",
       "      <th>date</th>\n",
       "      <th>source</th>\n",
       "      <th>category</th>\n",
       "    </tr>\n",
       "  </thead>\n",
       "  <tbody>\n",
       "    <tr>\n",
       "      <th>0</th>\n",
       "      <td>You all call me fugitive, which court has ever...</td>\n",
       "      <td>Lalit Modi on Sunday took to Instagram to spea...</td>\n",
       "      <td>Ridham Gambhir</td>\n",
       "      <td>17 Jul</td>\n",
       "      <td>[Instagram ]</td>\n",
       "      <td>business</td>\n",
       "    </tr>\n",
       "    <tr>\n",
       "      <th>1</th>\n",
       "      <td>World's biggest NFT marketplace OpenSea fires ...</td>\n",
       "      <td>The world's first and biggest NFT marketplace ...</td>\n",
       "      <td>Ridham Gambhir</td>\n",
       "      <td>16 Jul</td>\n",
       "      <td>[The Independent]</td>\n",
       "      <td>business</td>\n",
       "    </tr>\n",
       "    <tr>\n",
       "      <th>2</th>\n",
       "      <td>BCCI had ₹40 cr in bank when I joined &amp; ₹47,68...</td>\n",
       "      <td>In an Instagram post, Lalit Modi asserted that...</td>\n",
       "      <td>Ridham Gambhir</td>\n",
       "      <td>17 Jul</td>\n",
       "      <td>[Instagram]</td>\n",
       "      <td>business</td>\n",
       "    </tr>\n",
       "    <tr>\n",
       "      <th>3</th>\n",
       "      <td>A fighter to the core: Mahindra praises PV Sin...</td>\n",
       "      <td>Businessman Anand Mahindra took to Twitter to ...</td>\n",
       "      <td>Ridham Gambhir</td>\n",
       "      <td>17 Jul</td>\n",
       "      <td>[Twitter]</td>\n",
       "      <td>business</td>\n",
       "    </tr>\n",
       "    <tr>\n",
       "      <th>4</th>\n",
       "      <td>Twitter's sudden speed for trial after 2 month...</td>\n",
       "      <td>Tesla CEO Elon Musk has opposed Twitter's requ...</td>\n",
       "      <td>Ridham Gambhir</td>\n",
       "      <td>16 Jul</td>\n",
       "      <td>[Reuters]</td>\n",
       "      <td>business</td>\n",
       "    </tr>\n",
       "  </tbody>\n",
       "</table>\n",
       "</div>"
      ],
      "text/plain": [
       "                                               title  \\\n",
       "0  You all call me fugitive, which court has ever...   \n",
       "1  World's biggest NFT marketplace OpenSea fires ...   \n",
       "2  BCCI had ₹40 cr in bank when I joined & ₹47,68...   \n",
       "3  A fighter to the core: Mahindra praises PV Sin...   \n",
       "4  Twitter's sudden speed for trial after 2 month...   \n",
       "\n",
       "                                             content          author    date  \\\n",
       "0  Lalit Modi on Sunday took to Instagram to spea...  Ridham Gambhir  17 Jul   \n",
       "1  The world's first and biggest NFT marketplace ...  Ridham Gambhir  16 Jul   \n",
       "2  In an Instagram post, Lalit Modi asserted that...  Ridham Gambhir  17 Jul   \n",
       "3  Businessman Anand Mahindra took to Twitter to ...  Ridham Gambhir  17 Jul   \n",
       "4  Tesla CEO Elon Musk has opposed Twitter's requ...  Ridham Gambhir  16 Jul   \n",
       "\n",
       "              source  category  \n",
       "0       [Instagram ]  business  \n",
       "1  [The Independent]  business  \n",
       "2        [Instagram]  business  \n",
       "3          [Twitter]  business  \n",
       "4          [Reuters]  business  "
      ]
     },
     "execution_count": 50,
     "metadata": {},
     "output_type": "execute_result"
    }
   ],
   "source": [
    "#viewing head:\n",
    "df.head()"
   ]
  },
  {
   "cell_type": "code",
   "execution_count": null,
   "id": "18cef765",
   "metadata": {},
   "outputs": [],
   "source": []
  }
 ],
 "metadata": {
  "kernelspec": {
   "display_name": "Python 3 (ipykernel)",
   "language": "python",
   "name": "python3"
  },
  "language_info": {
   "codemirror_mode": {
    "name": "ipython",
    "version": 3
   },
   "file_extension": ".py",
   "mimetype": "text/x-python",
   "name": "python",
   "nbconvert_exporter": "python",
   "pygments_lexer": "ipython3",
   "version": "3.9.7"
  }
 },
 "nbformat": 4,
 "nbformat_minor": 5
}
