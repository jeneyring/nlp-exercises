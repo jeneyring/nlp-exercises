{
 "cells": [
  {
   "cell_type": "markdown",
   "id": "99f50229",
   "metadata": {},
   "source": [
    "# Intro to Webscraping\n",
    "- Use 'requests' to download the HTML\n",
    "- Use BeautifulSoup to parse the HTML to the things you need"
   ]
  },
  {
   "cell_type": "markdown",
   "id": "db639983",
   "metadata": {},
   "source": [
    "## Process\n",
    "- Step 1: use the `request` library to make an HTTP request across the web.\n",
    "- Step 2: use the `response.text` property returned by the request and get the text of the HTML"
   ]
  },
  {
   "cell_type": "code",
   "execution_count": 1,
   "id": "61b0e235",
   "metadata": {},
   "outputs": [],
   "source": [
    "from requests import get\n",
    "from bs4 import BeautifulSoup"
   ]
  },
  {
   "cell_type": "code",
   "execution_count": 2,
   "id": "e70dfaa9",
   "metadata": {},
   "outputs": [],
   "source": [
    "url = \"https://site-to-scrape.glitch.me/\"\n",
    "#headers let others know who you are:\n",
    "headers = {'User-Agent': 'Codeup Data Science'} # Some websites don't accept the pyhon-requests default user-agent"
   ]
  },
  {
   "cell_type": "code",
   "execution_count": 3,
   "id": "45b0d3af",
   "metadata": {},
   "outputs": [
    {
     "data": {
      "text/plain": [
       "<Response [200]>"
      ]
     },
     "execution_count": 3,
     "metadata": {},
     "output_type": "execute_result"
    }
   ],
   "source": [
    "response = get(url, headers=headers)\n",
    "response"
   ]
  },
  {
   "cell_type": "code",
   "execution_count": 4,
   "id": "35e7061e",
   "metadata": {},
   "outputs": [
    {
     "data": {
      "text/plain": [
       "'<!DOCTYPE html>\\n<html lang=\"en\">\\n  <head>\\n    <title>Site to Scrape!</title>\\n    <meta charset=\"utf-8\">\\n    <meta http-equiv=\"X-UA-Compatible\" content=\"IE=edge\">\\n    <meta name=\"viewport\" content=\"width=device-width, initial-scale=1\">\\n    \\n    <!-- import the webpage\\'s stylesheet -->\\n    <link rel=\"stylesheet\" href=\"/style.css\">\\n    \\n    <!-- import the webpage\\'s javascript file -->\\n    <script src=\"/script.js\" defer></script>\\n  </head>  \\n  <body>\\n    <header>\\n      <h1>This is the header!</h1>\\n      <hr>\\n    </header>\\n    \\n    <main>\\n      <div>\\n        <h1 class=\"first\">\\n        This is the main\\n        </h1>\\n        <h2>\\n          This is an h2 of main\\n        </h2>\\n        <h3>\\n          H3 inside of first div inside of main\\n        </h3>\\n      </div>\\n      <div>\\n        <h3 class=\"first\">\\n          H3 inside of second div inside of main.\\n        </h3>\\n        <p>\\n          Here\\'s some text content for us to scrape! 👽\\n        </p>\\n        <p>\\n          Here\\'s another paragraph of content! ☠️\\n        </p>\\n        <a href=\"https://github.com/ryanorsinger\">Click here to visit my portfolio</a>       \\n      </div>\\n    </main>\\n\\n    <footer>\\n      <h1>This is the footer</h1>\\n      <img src=\"https://traffic-analytics.glitch.me/counter.png?fallback=MY_WEBSITE&color=black\" alt=\"\" style=\"vertical-align: bottom;\" aria-hidden=\"true\">\\n    </footer>\\n\\n  </body>\\n</html>\\n'"
      ]
     },
     "execution_count": 4,
     "metadata": {},
     "output_type": "execute_result"
    }
   ],
   "source": [
    "response.text"
   ]
  },
  {
   "cell_type": "code",
   "execution_count": 5,
   "id": "bc2ee0c2",
   "metadata": {},
   "outputs": [],
   "source": [
    "# Make a soup variable holding the response content\n",
    "soup = BeautifulSoup(response.content, 'html.parser')"
   ]
  },
  {
   "cell_type": "code",
   "execution_count": 6,
   "id": "c94f9219",
   "metadata": {},
   "outputs": [
    {
     "data": {
      "text/plain": [
       "<!DOCTYPE html>\n",
       "\n",
       "<html lang=\"en\">\n",
       "<head>\n",
       "<title>Site to Scrape!</title>\n",
       "<meta charset=\"utf-8\"/>\n",
       "<meta content=\"IE=edge\" http-equiv=\"X-UA-Compatible\"/>\n",
       "<meta content=\"width=device-width, initial-scale=1\" name=\"viewport\"/>\n",
       "<!-- import the webpage's stylesheet -->\n",
       "<link href=\"/style.css\" rel=\"stylesheet\"/>\n",
       "<!-- import the webpage's javascript file -->\n",
       "<script defer=\"\" src=\"/script.js\"></script>\n",
       "</head>\n",
       "<body>\n",
       "<header>\n",
       "<h1>This is the header!</h1>\n",
       "<hr/>\n",
       "</header>\n",
       "<main>\n",
       "<div>\n",
       "<h1 class=\"first\">\n",
       "        This is the main\n",
       "        </h1>\n",
       "<h2>\n",
       "          This is an h2 of main\n",
       "        </h2>\n",
       "<h3>\n",
       "          H3 inside of first div inside of main\n",
       "        </h3>\n",
       "</div>\n",
       "<div>\n",
       "<h3 class=\"first\">\n",
       "          H3 inside of second div inside of main.\n",
       "        </h3>\n",
       "<p>\n",
       "          Here's some text content for us to scrape! 👽\n",
       "        </p>\n",
       "<p>\n",
       "          Here's another paragraph of content! ☠️\n",
       "        </p>\n",
       "<a href=\"https://github.com/ryanorsinger\">Click here to visit my portfolio</a>\n",
       "</div>\n",
       "</main>\n",
       "<footer>\n",
       "<h1>This is the footer</h1>\n",
       "<img alt=\"\" aria-hidden=\"true\" src=\"https://traffic-analytics.glitch.me/counter.png?fallback=MY_WEBSITE&amp;color=black\" style=\"vertical-align: bottom;\"/>\n",
       "</footer>\n",
       "</body>\n",
       "</html>"
      ]
     },
     "execution_count": 6,
     "metadata": {},
     "output_type": "execute_result"
    }
   ],
   "source": [
    "#beautiful soup parses the html itself:\n",
    "soup"
   ]
  },
  {
   "cell_type": "code",
   "execution_count": 7,
   "id": "9b0e6e98",
   "metadata": {},
   "outputs": [
    {
     "data": {
      "text/plain": [
       "<title>Site to Scrape!</title>"
      ]
     },
     "execution_count": 7,
     "metadata": {},
     "output_type": "execute_result"
    }
   ],
   "source": [
    "#you can also call elements of the html:\n",
    "soup.title"
   ]
  },
  {
   "cell_type": "code",
   "execution_count": 8,
   "id": "e4ef9cd6",
   "metadata": {},
   "outputs": [
    {
     "data": {
      "text/plain": [
       "<h1>This is the header!</h1>"
      ]
     },
     "execution_count": 8,
     "metadata": {},
     "output_type": "execute_result"
    }
   ],
   "source": [
    "soup.h1"
   ]
  },
  {
   "cell_type": "code",
   "execution_count": 9,
   "id": "c40df000",
   "metadata": {},
   "outputs": [
    {
     "data": {
      "text/plain": [
       "'This is the header!'"
      ]
     },
     "execution_count": 9,
     "metadata": {},
     "output_type": "execute_result"
    }
   ],
   "source": [
    "#for just the text in headers or sections, add .text at end:\n",
    "soup.h1.text"
   ]
  },
  {
   "cell_type": "code",
   "execution_count": 10,
   "id": "0adf9c29",
   "metadata": {},
   "outputs": [
    {
     "data": {
      "text/plain": [
       "<body>\n",
       "<header>\n",
       "<h1>This is the header!</h1>\n",
       "<hr/>\n",
       "</header>\n",
       "<main>\n",
       "<div>\n",
       "<h1 class=\"first\">\n",
       "        This is the main\n",
       "        </h1>\n",
       "<h2>\n",
       "          This is an h2 of main\n",
       "        </h2>\n",
       "<h3>\n",
       "          H3 inside of first div inside of main\n",
       "        </h3>\n",
       "</div>\n",
       "<div>\n",
       "<h3 class=\"first\">\n",
       "          H3 inside of second div inside of main.\n",
       "        </h3>\n",
       "<p>\n",
       "          Here's some text content for us to scrape! 👽\n",
       "        </p>\n",
       "<p>\n",
       "          Here's another paragraph of content! ☠️\n",
       "        </p>\n",
       "<a href=\"https://github.com/ryanorsinger\">Click here to visit my portfolio</a>\n",
       "</div>\n",
       "</main>\n",
       "<footer>\n",
       "<h1>This is the footer</h1>\n",
       "<img alt=\"\" aria-hidden=\"true\" src=\"https://traffic-analytics.glitch.me/counter.png?fallback=MY_WEBSITE&amp;color=black\" style=\"vertical-align: bottom;\"/>\n",
       "</footer>\n",
       "</body>"
      ]
     },
     "execution_count": 10,
     "metadata": {},
     "output_type": "execute_result"
    }
   ],
   "source": [
    "soup.body"
   ]
  },
  {
   "cell_type": "code",
   "execution_count": 11,
   "id": "95b92fd0",
   "metadata": {},
   "outputs": [
    {
     "data": {
      "text/plain": [
       "' main'"
      ]
     },
     "execution_count": 11,
     "metadata": {},
     "output_type": "execute_result"
    }
   ],
   "source": [
    "#can strip down text as well:\n",
    "soup.h2.text.strip()[-5:]"
   ]
  },
  {
   "cell_type": "code",
   "execution_count": 12,
   "id": "96b628f1",
   "metadata": {},
   "outputs": [
    {
     "data": {
      "text/plain": [
       "'\\n          This is an h2 of main\\n        '"
      ]
     },
     "execution_count": 12,
     "metadata": {},
     "output_type": "execute_result"
    }
   ],
   "source": [
    "#in comparison:\n",
    "soup.h2.text"
   ]
  },
  {
   "cell_type": "code",
   "execution_count": 13,
   "id": "2ac18d3f",
   "metadata": {},
   "outputs": [
    {
     "data": {
      "text/plain": [
       "'<!DOCTYPE html>\\n<html lang=\"en\">\\n <head>\\n  <title>\\n   Site to Scrape!\\n  </title>\\n  <meta charset=\"utf-8\"/>\\n  <meta content=\"IE=edge\" http-equiv=\"X-UA-Compatible\"/>\\n  <meta content=\"width=device-width, initial-scale=1\" name=\"viewport\"/>\\n  <!-- import the webpage\\'s stylesheet -->\\n  <link href=\"/style.css\" rel=\"stylesheet\"/>\\n  <!-- import the webpage\\'s javascript file -->\\n  <script defer=\"\" src=\"/script.js\">\\n  </script>\\n </head>\\n <body>\\n  <header>\\n   <h1>\\n    This is the header!\\n   </h1>\\n   <hr/>\\n  </header>\\n  <main>\\n   <div>\\n    <h1 class=\"first\">\\n     This is the main\\n    </h1>\\n    <h2>\\n     This is an h2 of main\\n    </h2>\\n    <h3>\\n     H3 inside of first div inside of main\\n    </h3>\\n   </div>\\n   <div>\\n    <h3 class=\"first\">\\n     H3 inside of second div inside of main.\\n    </h3>\\n    <p>\\n     Here\\'s some text content for us to scrape! 👽\\n    </p>\\n    <p>\\n     Here\\'s another paragraph of content! ☠️\\n    </p>\\n    <a href=\"https://github.com/ryanorsinger\">\\n     Click here to visit my portfolio\\n    </a>\\n   </div>\\n  </main>\\n  <footer>\\n   <h1>\\n    This is the footer\\n   </h1>\\n   <img alt=\"\" aria-hidden=\"true\" src=\"https://traffic-analytics.glitch.me/counter.png?fallback=MY_WEBSITE&amp;color=black\" style=\"vertical-align: bottom;\"/>\\n  </footer>\\n </body>\\n</html>\\n'"
      ]
     },
     "execution_count": 13,
     "metadata": {},
     "output_type": "execute_result"
    }
   ],
   "source": [
    "#soup.prettify() is useful to print in case you want to see the HTML\n",
    "soup.prettify()\n"
   ]
  },
  {
   "cell_type": "code",
   "execution_count": 14,
   "id": "b52797b2",
   "metadata": {},
   "outputs": [
    {
     "data": {
      "text/plain": [
       "[<a href=\"https://github.com/ryanorsinger\">Click here to visit my portfolio</a>]"
      ]
     },
     "execution_count": 14,
     "metadata": {},
     "output_type": "execute_result"
    }
   ],
   "source": [
    "#soup.find_all(\"a\") find all the anchor tags, or whatever argument is specified.\n",
    "soup.find_all(\"a\")"
   ]
  },
  {
   "cell_type": "markdown",
   "id": "ef1142d4",
   "metadata": {},
   "source": [
    "_____________________________________"
   ]
  },
  {
   "cell_type": "markdown",
   "id": "152f24c8",
   "metadata": {},
   "source": [
    "### soup.select is a really good one to understand and know out of all of this!"
   ]
  },
  {
   "cell_type": "code",
   "execution_count": 15,
   "id": "1ebb27d0",
   "metadata": {
    "scrolled": true
   },
   "outputs": [
    {
     "data": {
      "text/plain": [
       "[<header>\n",
       " <h1>This is the header!</h1>\n",
       " <hr/>\n",
       " </header>]"
      ]
     },
     "execution_count": 15,
     "metadata": {},
     "output_type": "execute_result"
    }
   ],
   "source": [
    "#The soup.select() method takes in a CSS selector as a string and returns all matching elements. super useful\n",
    "soup.select(\"header\")"
   ]
  },
  {
   "cell_type": "code",
   "execution_count": 16,
   "id": "14157bfa",
   "metadata": {},
   "outputs": [
    {
     "data": {
      "text/plain": [
       "bs4.element.ResultSet"
      ]
     },
     "execution_count": 16,
     "metadata": {},
     "output_type": "execute_result"
    }
   ],
   "source": [
    "type(soup.select('p'))"
   ]
  },
  {
   "cell_type": "code",
   "execution_count": 17,
   "id": "53d93e05",
   "metadata": {},
   "outputs": [
    {
     "data": {
      "text/plain": [
       "[<p>\n",
       "           Here's some text content for us to scrape! 👽\n",
       "         </p>,\n",
       " <p>\n",
       "           Here's another paragraph of content! ☠️\n",
       "         </p>]"
      ]
     },
     "execution_count": 17,
     "metadata": {},
     "output_type": "execute_result"
    }
   ],
   "source": [
    "soup.select('p')"
   ]
  },
  {
   "cell_type": "markdown",
   "id": "427b8a2e",
   "metadata": {},
   "source": [
    "We can't grab all from the p tags but we can iterate through them (like a for loop)"
   ]
  },
  {
   "cell_type": "code",
   "execution_count": 18,
   "id": "48ced7ca",
   "metadata": {},
   "outputs": [
    {
     "name": "stdout",
     "output_type": "stream",
     "text": [
      "\n",
      "          Here's some text content for us to scrape! 👽\n",
      "        \n",
      "\n",
      "          Here's another paragraph of content! ☠️\n",
      "        \n"
     ]
    }
   ],
   "source": [
    "for p in soup.select('p'):\n",
    "    print(p.text)"
   ]
  },
  {
   "cell_type": "markdown",
   "id": "dc35fc8e",
   "metadata": {},
   "source": [
    "#### Notes:\n",
    ".select will return a resultset and list, even if there's only one of something."
   ]
  },
  {
   "cell_type": "code",
   "execution_count": 19,
   "id": "0ad9ef28",
   "metadata": {},
   "outputs": [
    {
     "data": {
      "text/plain": [
       "[<img alt=\"\" aria-hidden=\"true\" src=\"https://traffic-analytics.glitch.me/counter.png?fallback=MY_WEBSITE&amp;color=black\" style=\"vertical-align: bottom;\"/>]"
      ]
     },
     "execution_count": 19,
     "metadata": {},
     "output_type": "execute_result"
    }
   ],
   "source": [
    "#example:\n",
    "soup.select('img')"
   ]
  },
  {
   "cell_type": "markdown",
   "id": "506e184a",
   "metadata": {},
   "source": [
    "________________________________"
   ]
  },
  {
   "cell_type": "code",
   "execution_count": 20,
   "id": "7ecc2825",
   "metadata": {},
   "outputs": [
    {
     "data": {
      "text/plain": [
       "<a href=\"https://github.com/ryanorsinger\">Click here to visit my portfolio</a>"
      ]
     },
     "execution_count": 20,
     "metadata": {},
     "output_type": "execute_result"
    }
   ],
   "source": [
    "#if you only want to select one match, you can use select_one\n",
    "soup.select_one('a')"
   ]
  },
  {
   "cell_type": "markdown",
   "id": "623699a3",
   "metadata": {},
   "source": [
    "_______________________________"
   ]
  },
  {
   "cell_type": "markdown",
   "id": "92b5a5ec",
   "metadata": {},
   "source": [
    "### Nested tags"
   ]
  },
  {
   "cell_type": "code",
   "execution_count": 21,
   "id": "8f9c2272",
   "metadata": {},
   "outputs": [
    {
     "data": {
      "text/plain": [
       "<body>\n",
       "<header>\n",
       "<h1>This is the header!</h1>\n",
       "<hr/>\n",
       "</header>\n",
       "<main>\n",
       "<div>\n",
       "<h1 class=\"first\">\n",
       "        This is the main\n",
       "        </h1>\n",
       "<h2>\n",
       "          This is an h2 of main\n",
       "        </h2>\n",
       "<h3>\n",
       "          H3 inside of first div inside of main\n",
       "        </h3>\n",
       "</div>\n",
       "<div>\n",
       "<h3 class=\"first\">\n",
       "          H3 inside of second div inside of main.\n",
       "        </h3>\n",
       "<p>\n",
       "          Here's some text content for us to scrape! 👽\n",
       "        </p>\n",
       "<p>\n",
       "          Here's another paragraph of content! ☠️\n",
       "        </p>\n",
       "<a href=\"https://github.com/ryanorsinger\">Click here to visit my portfolio</a>\n",
       "</div>\n",
       "</main>\n",
       "<footer>\n",
       "<h1>This is the footer</h1>\n",
       "<img alt=\"\" aria-hidden=\"true\" src=\"https://traffic-analytics.glitch.me/counter.png?fallback=MY_WEBSITE&amp;color=black\" style=\"vertical-align: bottom;\"/>\n",
       "</footer>\n",
       "</body>"
      ]
     },
     "execution_count": 21,
     "metadata": {},
     "output_type": "execute_result"
    }
   ],
   "source": [
    "soup.select('body')[0]"
   ]
  },
  {
   "cell_type": "code",
   "execution_count": 22,
   "id": "0e05af1f",
   "metadata": {},
   "outputs": [
    {
     "data": {
      "text/plain": [
       "\"\\n\\nThis is the header!\\n\\n\\n\\n\\n\\n        This is the main\\n        \\n\\n          This is an h2 of main\\n        \\n\\n          H3 inside of first div inside of main\\n        \\n\\n\\n\\n          H3 inside of second div inside of main.\\n        \\n\\n          Here's some text content for us to scrape! 👽\\n        \\n\\n          Here's another paragraph of content! ☠️\\n        \\nClick here to visit my portfolio\\n\\n\\n\\nThis is the footer\\n\\n\\n\""
      ]
     },
     "execution_count": 22,
     "metadata": {},
     "output_type": "execute_result"
    }
   ],
   "source": [
    "#blowing off elements and getting just text\n",
    "soup.select('body')[0].text"
   ]
  },
  {
   "cell_type": "code",
   "execution_count": 23,
   "id": "0f1d279c",
   "metadata": {},
   "outputs": [
    {
     "data": {
      "text/plain": [
       "'https://github.com/ryanorsinger'"
      ]
     },
     "execution_count": 23,
     "metadata": {},
     "output_type": "execute_result"
    }
   ],
   "source": [
    "#if we want to use dictionary syntax to access the attribute value (where img source is coming from)\n",
    "soup.select_one('a')['href']"
   ]
  },
  {
   "cell_type": "code",
   "execution_count": 26,
   "id": "145ef864",
   "metadata": {},
   "outputs": [
    {
     "data": {
      "text/plain": [
       "'https://github.com/ryanorsinger'"
      ]
     },
     "execution_count": 26,
     "metadata": {},
     "output_type": "execute_result"
    }
   ],
   "source": [
    "#assign this function that points to a link:\n",
    "url =soup.select_one('a')['href']\n",
    "url"
   ]
  },
  {
   "cell_type": "code",
   "execution_count": 33,
   "id": "357b3cec",
   "metadata": {},
   "outputs": [
    {
     "data": {
      "text/plain": [
       "<Response [200]>"
      ]
     },
     "execution_count": 33,
     "metadata": {},
     "output_type": "execute_result"
    }
   ],
   "source": [
    "#assign the url and headers to a get function to run the scraper\n",
    "response2 = get(url, headers=headers)\n",
    "response2"
   ]
  },
  {
   "cell_type": "code",
   "execution_count": 31,
   "id": "3d6d05f4",
   "metadata": {},
   "outputs": [],
   "source": [
    "#reassign then to have BS run through to help parse the html content\n",
    "github_soup= BeautifulSoup(response2.content, 'html.parser')"
   ]
  },
  {
   "cell_type": "code",
   "execution_count": 32,
   "id": "1b707a1c",
   "metadata": {},
   "outputs": [
    {
     "data": {
      "text/plain": [
       "['#start-of-content',\n",
       " 'https://github.com/',\n",
       " '/signup?ref_cta=Sign+up&ref_loc=header+logged+out&ref_page=%2F%3Cuser-name%3E&source=header',\n",
       " '/features',\n",
       " '/mobile',\n",
       " '/features/actions',\n",
       " '/features/codespaces',\n",
       " '/features/copilot',\n",
       " '/features/packages',\n",
       " '/features/security',\n",
       " '/features/code-review',\n",
       " '/features/issues',\n",
       " '/features/discussions',\n",
       " '/features/integrations',\n",
       " '/sponsors',\n",
       " '/customer-stories',\n",
       " '/team',\n",
       " '/enterprise',\n",
       " '/explore',\n",
       " '/topics',\n",
       " '/collections',\n",
       " '/trending',\n",
       " 'https://skills.github.com/',\n",
       " '/sponsors/explore',\n",
       " 'https://opensource.guide',\n",
       " '/readme',\n",
       " '/events',\n",
       " 'https://github.community',\n",
       " 'https://education.github.com',\n",
       " 'https://stars.github.com',\n",
       " '/marketplace',\n",
       " '/pricing',\n",
       " '/pricing#compare-features',\n",
       " 'https://github.com/enterprise/contact',\n",
       " 'https://education.github.com',\n",
       " '',\n",
       " '',\n",
       " '',\n",
       " '',\n",
       " '/login?return_to=https%3A%2F%2Fgithub.com%2Fryanorsinger',\n",
       " '/signup?ref_cta=Sign+up&ref_loc=header+logged+out&ref_page=%2F%3Cuser-name%3E&source=header',\n",
       " '/login?return_to=https%3A%2F%2Fgithub.com%2Fryanorsinger',\n",
       " '/ryanorsinger',\n",
       " '/ryanorsinger?tab=repositories',\n",
       " '/ryanorsinger?tab=projects&type=beta',\n",
       " '/ryanorsinger?tab=packages',\n",
       " '/ryanorsinger?tab=stars',\n",
       " '/ryanorsinger',\n",
       " '/ryanorsinger?tab=repositories',\n",
       " '/ryanorsinger?tab=projects&type=beta',\n",
       " '/ryanorsinger?tab=packages',\n",
       " '/ryanorsinger?tab=stars',\n",
       " '/login?return_to=https%3A%2F%2Fgithub.com%2Fryanorsinger',\n",
       " 'https://avatars.githubusercontent.com/u/5657581?v=4',\n",
       " '/login?return_to=https%3A%2F%2Fgithub.com%2Fryanorsinger',\n",
       " 'https://github.com/gocodeup',\n",
       " 'https://github.com/ryanorsinger?tab=followers',\n",
       " 'https://github.com/ryanorsinger?tab=following',\n",
       " 'https://github.com/gocodeup',\n",
       " 'https://101exercises.com/',\n",
       " '/ryanorsinger?tab=achievements',\n",
       " '/ryanorsinger?achievement=yolo&tab=achievements',\n",
       " '/ryanorsinger?achievement=pull-shark&tab=achievements',\n",
       " '/ryanorsinger?achievement=arctic-code-vault-contributor&tab=achievements',\n",
       " '/github/feedback/discussions/categories/profile',\n",
       " '/ryanorsinger?tab=achievements',\n",
       " '/ryanorsinger?achievement=yolo&tab=achievements',\n",
       " '/ryanorsinger?achievement=pull-shark&tab=achievements',\n",
       " '/ryanorsinger?achievement=arctic-code-vault-contributor&tab=achievements',\n",
       " '/github/feedback/discussions/categories/profile',\n",
       " 'https://docs.github.com/developers/overview/github-developer-program',\n",
       " '/gocodeup',\n",
       " '/codeup-ad-lister',\n",
       " 'https://docs.github.com/en/articles/blocking-a-user-from-your-personal-account',\n",
       " 'https://docs.github.com/en/articles/reporting-abuse-or-spam',\n",
       " '/contact/report-abuse?report=ryanorsinger+%28user%29',\n",
       " '/ryanorsinger',\n",
       " '/ryanorsinger?tab=repositories',\n",
       " '/ryanorsinger?tab=projects&type=beta',\n",
       " '/ryanorsinger?tab=packages',\n",
       " '/ryanorsinger?tab=stars',\n",
       " '/ryanorsinger',\n",
       " '/ryanorsinger?tab=repositories',\n",
       " '/ryanorsinger?tab=projects&type=beta',\n",
       " '/ryanorsinger?tab=packages',\n",
       " '/ryanorsinger?tab=stars',\n",
       " '/ryanorsinger/67-Minutes-to-NumPy',\n",
       " '/ryanorsinger/67-Minutes-to-NumPy/stargazers',\n",
       " '/ryanorsinger/101-exercises',\n",
       " '/ryanorsinger/101-exercises/stargazers',\n",
       " '/ryanorsinger/101-exercises/network/members',\n",
       " '/ryanorsinger/90-minutes-to-machine-learning',\n",
       " '/ryanorsinger/101-exercises-js',\n",
       " '/ryanorsinger/101-exercises-js/stargazers',\n",
       " '/ryanorsinger/101-exercises-js/network/members',\n",
       " '/ryanorsinger/intro-to-deep-learning-with-keras',\n",
       " '/ryanorsinger/intro-to-deep-learning-with-keras/stargazers',\n",
       " '/ryanorsinger/intro-to-deep-learning-with-keras/network/members',\n",
       " '/ryanorsinger/learn-to-code-python-workshop',\n",
       " '/ryanorsinger/learn-to-code-python-workshop/stargazers',\n",
       " '/ryanorsinger/learn-to-code-python-workshop/network/members',\n",
       " 'https://docs.github.com/articles/why-are-my-contributions-not-showing-up-on-my-profile',\n",
       " 'https://skyline.github.com/ryanorsinger',\n",
       " '/ryanorsinger?tab=overview&org=gocodeup',\n",
       " '/ryanorsinger?tab=overview&org=CodeupClassroom',\n",
       " '/ryanorsinger?tab=overview&org=singh-orsinger-gomez',\n",
       " '/ryanorsinger/rudiments',\n",
       " '/ryanorsinger/aphorisms',\n",
       " '/ryanorsinger/random_resources',\n",
       " '/ryanorsinger/jemison-nlp-exercises',\n",
       " '/ryanorsinger/jemison-nlp-exercises/commits?author=ryanorsinger&since=2022-07-01&until=2022-07-16',\n",
       " '/ryanorsinger/ThinkBayes2',\n",
       " '/ryanorsinger/ThinkBayes2/commits?author=ryanorsinger&since=2022-07-01&until=2022-07-16',\n",
       " '/ryanorsinger/aphorisms',\n",
       " '/ryanorsinger/aphorisms/commits?author=ryanorsinger&since=2022-07-01&until=2022-07-16',\n",
       " '/ryanorsinger/rudiments',\n",
       " '/ryanorsinger/rudiments/commits?author=ryanorsinger&since=2022-07-01&until=2022-07-16',\n",
       " '/ryanorsinger/jemison-nlp-exercises',\n",
       " '/ryanorsinger/aphorisms/pull/43',\n",
       " '/ryanorsinger/aphorisms/pull/42',\n",
       " 'https://docs.github.com/categories/setting-up-and-managing-your-github-profile',\n",
       " '/ryanorsinger?tab=overview&from=2022-07-01&to=2022-07-15',\n",
       " '/ryanorsinger?tab=overview&from=2021-12-01&to=2021-12-31',\n",
       " '/ryanorsinger?tab=overview&from=2020-12-01&to=2020-12-31',\n",
       " '/ryanorsinger?tab=overview&from=2019-12-01&to=2019-12-31',\n",
       " '/ryanorsinger?tab=overview&from=2018-12-01&to=2018-12-31',\n",
       " '/ryanorsinger?tab=overview&from=2017-12-01&to=2017-12-31',\n",
       " '/ryanorsinger?tab=overview&from=2016-12-01&to=2016-12-31',\n",
       " '/ryanorsinger?tab=overview&from=2015-12-01&to=2015-12-31',\n",
       " '/ryanorsinger?tab=overview&from=2014-12-01&to=2014-12-31',\n",
       " '/ryanorsinger?tab=overview&from=2013-12-01&to=2013-12-31',\n",
       " 'https://github.com',\n",
       " 'https://docs.github.com/en/github/site-policy/github-terms-of-service',\n",
       " 'https://docs.github.com/en/github/site-policy/github-privacy-statement',\n",
       " 'https://github.com/security',\n",
       " 'https://www.githubstatus.com/',\n",
       " 'https://docs.github.com',\n",
       " 'https://support.github.com?tags=dotcom-footer',\n",
       " 'https://github.com/pricing',\n",
       " 'https://docs.github.com',\n",
       " 'https://services.github.com',\n",
       " 'https://github.blog',\n",
       " 'https://github.com/about',\n",
       " '',\n",
       " '']"
      ]
     },
     "execution_count": 32,
     "metadata": {},
     "output_type": "execute_result"
    }
   ],
   "source": [
    "#how to get all of the urls from each link\n",
    "anchors = github_soup.select('a')\n",
    "urls = []\n",
    "for a in anchors:\n",
    "    #to access a HTML tag's attribute, use dict syntax\n",
    "    href = a['href']\n",
    "    urls.append(href)\n",
    "    \n",
    "urls"
   ]
  },
  {
   "cell_type": "code",
   "execution_count": 35,
   "id": "220ed604",
   "metadata": {},
   "outputs": [
    {
     "data": {
      "text/plain": [
       "'https://github.com/ryanorsinger'"
      ]
     },
     "execution_count": 35,
     "metadata": {},
     "output_type": "execute_result"
    }
   ],
   "source": [
    "#if anything needs to be appended, we can utilize and remember that url holds to original grab:\n",
    "response2.url"
   ]
  },
  {
   "cell_type": "code",
   "execution_count": null,
   "id": "42d0db66",
   "metadata": {},
   "outputs": [],
   "source": [
    "#beautiful soup tag element:\n",
    "soup.find_all('h3')[0].text"
   ]
  },
  {
   "cell_type": "code",
   "execution_count": null,
   "id": "5251f19d",
   "metadata": {},
   "outputs": [],
   "source": [
    "#looking at children elements:\n",
    "list(soup.children)"
   ]
  },
  {
   "cell_type": "markdown",
   "id": "915a6b7a",
   "metadata": {},
   "source": [
    "### CSS selectors:"
   ]
  },
  {
   "cell_type": "code",
   "execution_count": 36,
   "id": "94804760",
   "metadata": {},
   "outputs": [
    {
     "data": {
      "text/plain": [
       "[<p>\n",
       "           Here's some text content for us to scrape! 👽\n",
       "         </p>,\n",
       " <p>\n",
       "           Here's another paragraph of content! ☠️\n",
       "         </p>]"
      ]
     },
     "execution_count": 36,
     "metadata": {},
     "output_type": "execute_result"
    }
   ],
   "source": [
    "# .select and .select_one take css selectors\n",
    "#elements themselves are a string of that element\n",
    "soup.select('p')"
   ]
  },
  {
   "cell_type": "code",
   "execution_count": 37,
   "id": "79f57514",
   "metadata": {},
   "outputs": [
    {
     "data": {
      "text/plain": [
       "[<a href=\"https://github.com/ryanorsinger\">Click here to visit my portfolio</a>]"
      ]
     },
     "execution_count": 37,
     "metadata": {},
     "output_type": "execute_result"
    }
   ],
   "source": [
    "soup.select('a')"
   ]
  },
  {
   "cell_type": "code",
   "execution_count": 38,
   "id": "e20bb5c7",
   "metadata": {},
   "outputs": [
    {
     "data": {
      "text/plain": [
       "[<h1 class=\"first\">\n",
       "         This is the main\n",
       "         </h1>,\n",
       " <h3 class=\"first\">\n",
       "           H3 inside of second div inside of main.\n",
       "         </h3>]"
      ]
     },
     "execution_count": 38,
     "metadata": {},
     "output_type": "execute_result"
    }
   ],
   "source": [
    "# .class name the . means 'hey I'm looking for a class'\n",
    "soup.select(\".first\")"
   ]
  },
  {
   "cell_type": "code",
   "execution_count": 40,
   "id": "0425be6a",
   "metadata": {},
   "outputs": [
    {
     "data": {
      "text/plain": [
       "'/features'"
      ]
     },
     "execution_count": 40,
     "metadata": {},
     "output_type": "execute_result"
    }
   ],
   "source": [
    "#grabbing link/target on website, finding it via Inspect on website and then pulling title or text from element\n",
    "github_soup.select('a.Link--primary')[0]['href']"
   ]
  },
  {
   "cell_type": "code",
   "execution_count": 42,
   "id": "4511b755",
   "metadata": {},
   "outputs": [
    {
     "data": {
      "text/plain": [
       "'/ryanorsinger?achievement=pull-shark&tab=achievements'"
      ]
     },
     "execution_count": 42,
     "metadata": {},
     "output_type": "execute_result"
    }
   ],
   "source": [
    "#grabbing baby shark icon on webpage:\n",
    "baby_shark_selector = '#js-pjax-container > div.container-xl.px-3.px-md-4.px-lg-5 > div > div.Layout-sidebar > div > div.js-profile-editable-replace > div:nth-child(4) > div.d-flex.flex-wrap > a:nth-child(2)'\n",
    "github_soup.select(baby_shark_selector)[0]['href']"
   ]
  },
  {
   "cell_type": "markdown",
   "id": "23204833",
   "metadata": {},
   "source": [
    "#### Grabbing dictionary tags ( or items that are holding other items)"
   ]
  },
  {
   "cell_type": "code",
   "execution_count": 46,
   "id": "70b6acdc",
   "metadata": {},
   "outputs": [],
   "source": [
    "peace_icon = github_soup.select('#js-pjax-container > div.container-xl.px-3.px-md-4.px-lg-5 > div > div.Layout-sidebar > div > div.js-profile-editable-replace > div.border-top.color-border-muted.pt-3.mt-3.clearfix.hide-sm.hide-md > a:nth-child(3) > img')"
   ]
  },
  {
   "cell_type": "code",
   "execution_count": 48,
   "id": "1c7b9550",
   "metadata": {},
   "outputs": [
    {
     "data": {
      "text/plain": [
       "<img alt=\"@codeup-ad-lister\" class=\"avatar\" data-view-component=\"true\" height=\"32\" size=\"32\" src=\"https://avatars.githubusercontent.com/u/11996572?s=64&amp;v=4\" width=\"32\"/>"
      ]
     },
     "execution_count": 48,
     "metadata": {},
     "output_type": "execute_result"
    }
   ],
   "source": [
    "#create a tag element\n",
    "peace_icon[0]"
   ]
  },
  {
   "cell_type": "code",
   "execution_count": 49,
   "id": "a53778ec",
   "metadata": {},
   "outputs": [],
   "source": [
    "peace_icon[0].h2"
   ]
  },
  {
   "cell_type": "code",
   "execution_count": 53,
   "id": "c33173ec",
   "metadata": {},
   "outputs": [],
   "source": []
  },
  {
   "cell_type": "code",
   "execution_count": null,
   "id": "288d749c",
   "metadata": {},
   "outputs": [],
   "source": []
  }
 ],
 "metadata": {
  "kernelspec": {
   "display_name": "Python 3 (ipykernel)",
   "language": "python",
   "name": "python3"
  },
  "language_info": {
   "codemirror_mode": {
    "name": "ipython",
    "version": 3
   },
   "file_extension": ".py",
   "mimetype": "text/x-python",
   "name": "python",
   "nbconvert_exporter": "python",
   "pygments_lexer": "ipython3",
   "version": "3.9.7"
  }
 },
 "nbformat": 4,
 "nbformat_minor": 5
}
