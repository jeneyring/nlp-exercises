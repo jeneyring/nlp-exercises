{
 "cells": [
  {
   "cell_type": "code",
   "execution_count": 1,
   "id": "ec995aa5",
   "metadata": {},
   "outputs": [],
   "source": [
    "import pandas as pd\n",
    "import re"
   ]
  },
  {
   "cell_type": "markdown",
   "id": "b88d6c07",
   "metadata": {},
   "source": [
    "### Exercise 1)\n",
    "Write a function named `is_vowel`. It should accept a string as input and use a regular expression to determine if the passed string is a vowel. While not explicity mentioned in the lesson, you can treat the result of re.search as a boolean value that indicates whether or not the regular expression matches the given string."
   ]
  },
  {
   "cell_type": "code",
   "execution_count": 2,
   "id": "65558991",
   "metadata": {},
   "outputs": [
    {
     "data": {
      "text/plain": [
       "['o', 'a', 'o', 'e']"
      ]
     },
     "execution_count": 2,
     "metadata": {},
     "output_type": "execute_result"
    }
   ],
   "source": [
    "#trying out creating string inputs for finding only vowels.\n",
    "my_string = 'potatoe'\n",
    "#only accepts vowels:\n",
    "regexp = r'[aeiou]'\n",
    "#findall and return only vowel using regexp conditions and my_string input\n",
    "re.findall (regexp, my_string)"
   ]
  },
  {
   "cell_type": "code",
   "execution_count": 3,
   "id": "ac896b2d",
   "metadata": {},
   "outputs": [],
   "source": [
    "def is_vowel(my_string):\n",
    "    regexp = r'[aeiou]'\n",
    "    #to return a true/false statement, have the length of regexp see if greater than 0\n",
    "    return len(re.findall(regexp, my_string)) > 0"
   ]
  },
  {
   "cell_type": "code",
   "execution_count": 4,
   "id": "958d99ba",
   "metadata": {},
   "outputs": [
    {
     "data": {
      "text/plain": [
       "(True, True, True, False)"
      ]
     },
     "execution_count": 4,
     "metadata": {},
     "output_type": "execute_result"
    }
   ],
   "source": [
    "is_vowel('potatoe'), is_vowel('rubber duck'), is_vowel('a'), is_vowel('d')"
   ]
  },
  {
   "cell_type": "markdown",
   "id": "7be71bdb",
   "metadata": {},
   "source": [
    "#### Another way:\n",
    "Some of these questions can be interpreted differently. Here is the function that only accepts one letter and returns true/false if vowel or not. "
   ]
  },
  {
   "cell_type": "markdown",
   "id": "2cdd4a30",
   "metadata": {},
   "source": [
    "note: putting an r in front of the string syntax is telling python that this string is a raw string."
   ]
  },
  {
   "cell_type": "code",
   "execution_count": 51,
   "id": "4b0d6298",
   "metadata": {},
   "outputs": [
    {
     "name": "stdout",
     "output_type": "stream",
     "text": [
      "True\n",
      "False\n",
      "False\n",
      "True\n"
     ]
    }
   ],
   "source": [
    "vowel_re =r\"^[aeiouAEIOU]$\"\n",
    "\n",
    "print(bool(re.search(vowel_re, 'a')))\n",
    "print(bool(re.search(vowel_re, 'b')))\n",
    "print(bool(re.search(vowel_re, 'T')))\n",
    "print(bool(re.search(vowel_re, 'E')))"
   ]
  },
  {
   "cell_type": "code",
   "execution_count": 52,
   "id": "eac48e17",
   "metadata": {},
   "outputs": [],
   "source": [
    "def is_a_vowel(string):\n",
    "    vowel_re =r\"^[aeiouAEIOU]$\"\n",
    "    \n",
    "    return bool(re.search(vowel_re, string))"
   ]
  },
  {
   "cell_type": "code",
   "execution_count": 53,
   "id": "3b051c22",
   "metadata": {},
   "outputs": [
    {
     "data": {
      "text/plain": [
       "True"
      ]
     },
     "execution_count": 53,
     "metadata": {},
     "output_type": "execute_result"
    }
   ],
   "source": [
    "is_a_vowel('A')"
   ]
  },
  {
   "cell_type": "code",
   "execution_count": 54,
   "id": "876e7f0a",
   "metadata": {},
   "outputs": [
    {
     "data": {
      "text/plain": [
       "False"
      ]
     },
     "execution_count": 54,
     "metadata": {},
     "output_type": "execute_result"
    }
   ],
   "source": [
    "is_a_vowel('d')"
   ]
  },
  {
   "cell_type": "markdown",
   "id": "2559a564",
   "metadata": {},
   "source": [
    "_________________________________"
   ]
  },
  {
   "cell_type": "markdown",
   "id": "82203a8e",
   "metadata": {},
   "source": [
    "### Exercise 2)\n",
    "Write a function named is_valid_username that accepts a string as input.\n",
    "<br>A valid username starts with a lowercase letter, and only consists of lowercase letters, numbers, or the _ character. <br>It should also be no longer than 32 characters. The function should return either True or False depending on whether the passed string is a valid username.\n",
    "\n",
    "\n"
   ]
  },
  {
   "cell_type": "markdown",
   "id": "5ff7dce0",
   "metadata": {},
   "source": [
    "> is_valid_username('aaaaaaaaaaaaaaaaaaaaaaaaaaaaaaaaa')\n",
    "False\n",
    "> is_valid_username('codeup')\n",
    "True\n",
    "> is_valid_username('Codeup')\n",
    "False\n",
    "> is_valid_username('codeup123')\n",
    "True\n",
    "> is_valid_username('1codeup')\n",
    "False\n"
   ]
  },
  {
   "cell_type": "code",
   "execution_count": 5,
   "id": "8c3c55de",
   "metadata": {},
   "outputs": [
    {
     "data": {
      "text/plain": [
       "<re.Match object; span=(0, 1), match='c'>"
      ]
     },
     "execution_count": 5,
     "metadata": {},
     "output_type": "execute_result"
    }
   ],
   "source": [
    "#first, finding match if letter is lower case\n",
    "username = 'cDeiHt'\n",
    "#assing regex to start with and match the first lower case letter it comes to\n",
    "regexp = r'^[a-z]'\n",
    "\n",
    "re.search(regexp, username)"
   ]
  },
  {
   "cell_type": "code",
   "execution_count": 6,
   "id": "cd694fc0",
   "metadata": {},
   "outputs": [
    {
     "data": {
      "text/plain": [
       "[]"
      ]
     },
     "execution_count": 6,
     "metadata": {},
     "output_type": "execute_result"
    }
   ],
   "source": [
    "#now, seeing if this assigned regex can match lower case (but adding in upper to check) to longer names\n",
    "#with symbols:\n",
    "username = 'Totoro_Catbus141'\n",
    "#regex assigned = ^starting at[any letters]+[any letters, numbers 0-9, and _ symbols],\n",
    "#{range of username is 1-31}, $end\n",
    "regexp = r'^[a-z]+[a-z0-9_]{1,31}$'\n",
    "\n",
    "re.findall(regexp, username)\n",
    "#### doesn't accept as there are uppercase letters here"
   ]
  },
  {
   "cell_type": "code",
   "execution_count": 7,
   "id": "1c591291",
   "metadata": {},
   "outputs": [
    {
     "data": {
      "text/plain": [
       "<re.Match object; span=(0, 16), match='totoro_catbus141'>"
      ]
     },
     "execution_count": 7,
     "metadata": {},
     "output_type": "execute_result"
    }
   ],
   "source": [
    "#trying the same above but with lowercase letters:\n",
    "username = 'totoro_catbus141'\n",
    "#regex assigned = ^starting at[any letters]+[any letters, numbers 0-9, and _ symbols],\n",
    "#{range of username is 1-31}, $end\n",
    "regexp = r'^[a-z]+[a-z0-9_]{1,31}$'\n",
    "\n",
    "re.search(regexp, username)"
   ]
  },
  {
   "cell_type": "code",
   "execution_count": 8,
   "id": "2870af8a",
   "metadata": {},
   "outputs": [],
   "source": [
    "#creating function with above:\n",
    "def is_valid_username(username):\n",
    "    regexp = r'^[a-z]+[a-z0-9_]{1,31}$'\n",
    "    return len(re.findall(regexp, username)) > 0"
   ]
  },
  {
   "cell_type": "code",
   "execution_count": 9,
   "id": "9154defe",
   "metadata": {},
   "outputs": [
    {
     "name": "stdout",
     "output_type": "stream",
     "text": [
      "Is batman_car112 a valid username? True\n",
      "Is Codeup a valid username? False\n"
     ]
    }
   ],
   "source": [
    "print (\"Is batman_car112 a valid username?\", is_valid_username('batman_car112'))\n",
    "print (\"Is Codeup a valid username?\", is_valid_username('Codeup'))\n"
   ]
  },
  {
   "cell_type": "markdown",
   "id": "49226c16",
   "metadata": {},
   "source": [
    "#### Another way of doing this:"
   ]
  },
  {
   "cell_type": "code",
   "execution_count": 59,
   "id": "00e5b0f1",
   "metadata": {},
   "outputs": [],
   "source": [
    "#[a-z]: first character needs to be lowercase letter, then next sets of letters\n",
    "#can be alphanumeric, including _ and up to 31 characters (since first character)\n",
    "#was already set and is 32...\n",
    "def is_validusername(string):\n",
    "    user_name= r\"^[a-z][a-z0-9_]{,31}$\"\n",
    "\n",
    "    return bool(re.search(user_name, string))\n",
    "\n",
    "assert is_validusername('aaaaaaaaaaaaaaaaaaaaaaaaaaaaaaaaa') == False\n",
    "assert is_validusername('codeup') == True\n",
    "assert is_validusername('Codeup') == False"
   ]
  },
  {
   "cell_type": "markdown",
   "id": "acf0f48f",
   "metadata": {},
   "source": [
    "note: when using assert, if you run and nothing returns, you're good!"
   ]
  },
  {
   "cell_type": "markdown",
   "id": "c1f9dd03",
   "metadata": {},
   "source": [
    "_______________________________________"
   ]
  },
  {
   "cell_type": "markdown",
   "id": "a8b8b16e",
   "metadata": {},
   "source": [
    "### Exercise 3)\n",
    "Write a regular expression to capture phone numbers. It should match all of the following:\n",
    "\n",
    "(210) 867 5309<br>\n",
    "+1 210.867.5309<br>\n",
    "867-5309<br>\n",
    "210-867-5309<br>\n",
    "\n"
   ]
  },
  {
   "cell_type": "code",
   "execution_count": 10,
   "id": "2aac46d2",
   "metadata": {},
   "outputs": [
    {
     "data": {
      "text/plain": [
       "<re.Match object; span=(0, 12), match='210-867-5309'>"
      ]
     },
     "execution_count": 10,
     "metadata": {},
     "output_type": "execute_result"
    }
   ],
   "source": [
    "phone_number = '210-867-5309'\n",
    "#assigning regex to accept 0-9, ()+- symbols, and + all after 0 range:\n",
    "regexp = r'[0-9()+-. ]+'\n",
    "re.match(regexp, phone_number)"
   ]
  },
  {
   "cell_type": "code",
   "execution_count": 11,
   "id": "d3a493c8",
   "metadata": {},
   "outputs": [
    {
     "data": {
      "text/plain": [
       "<re.Match object; span=(0, 15), match='+1 210.867.5309'>"
      ]
     },
     "execution_count": 11,
     "metadata": {},
     "output_type": "execute_result"
    }
   ],
   "source": [
    "phone_number2 = '+1 210.867.5309'\n",
    "re.match(regexp, phone_number2)"
   ]
  },
  {
   "cell_type": "code",
   "execution_count": 12,
   "id": "86b6ee4e",
   "metadata": {},
   "outputs": [
    {
     "data": {
      "text/plain": [
       "<re.Match object; span=(0, 8), match='867-5309'>"
      ]
     },
     "execution_count": 12,
     "metadata": {},
     "output_type": "execute_result"
    }
   ],
   "source": [
    "phone_number3 = '867-5309'\n",
    "re.match(regexp, phone_number3)"
   ]
  },
  {
   "cell_type": "code",
   "execution_count": 13,
   "id": "c6678896",
   "metadata": {},
   "outputs": [
    {
     "data": {
      "text/plain": [
       "<re.Match object; span=(0, 12), match='210-867-5309'>"
      ]
     },
     "execution_count": 13,
     "metadata": {},
     "output_type": "execute_result"
    }
   ],
   "source": [
    "phone_number4 = '210-867-5309'\n",
    "re.match(regexp, phone_number4)"
   ]
  },
  {
   "cell_type": "markdown",
   "id": "2d7e6516",
   "metadata": {},
   "source": [
    "#### Another way of doing this:"
   ]
  },
  {
   "cell_type": "code",
   "execution_count": 62,
   "id": "38f86336",
   "metadata": {},
   "outputs": [],
   "source": [
    "def is_phone_number(string):\n",
    "    #note that the two first groups were made as these sections are optional, whereas the last 7 digits of a phone\n",
    "    #number are not optional:\n",
    "    phone_number_re = r\"(\\+?\\d+)?.?(\\(?\\d{3}\\)?)?.?\\d{3}.?\\d{4}\"\n",
    "    \n",
    "    return bool(re.search(phone_number_re, string))\n",
    "\n",
    "assert is_phone_number('210-867-5309')== True\n",
    "assert is_phone_number('+1 210.867.5309')== True\n",
    "assert is_phone_number('867-5309')== True\n",
    "assert is_phone_number('210-867-5309')== True"
   ]
  },
  {
   "cell_type": "markdown",
   "id": "f11fbc50",
   "metadata": {},
   "source": [
    "________________________________________________"
   ]
  },
  {
   "cell_type": "markdown",
   "id": "1c32b189",
   "metadata": {},
   "source": [
    "### Exercise 4)\n",
    "Use regular expressions to convert the dates below to the standardized year-month-day format.\n",
    "02/04/19<br>\n",
    "02/05/19<br>\n",
    "02/06/19<br>\n",
    "02/07/19<br>\n",
    "02/08/19<br>\n",
    "02/09/19<br>\n",
    "02/10/19\n",
    "\n"
   ]
  },
  {
   "cell_type": "code",
   "execution_count": 14,
   "id": "426f9580",
   "metadata": {},
   "outputs": [
    {
     "data": {
      "text/plain": [
       "0    02/04/19\n",
       "1    02/05/19\n",
       "2    02/06/19\n",
       "3    02/07/19\n",
       "4    02/08/19\n",
       "5    02/09/19\n",
       "6    02/10/19\n",
       "dtype: object"
      ]
     },
     "execution_count": 14,
     "metadata": {},
     "output_type": "execute_result"
    }
   ],
   "source": [
    "#creating a dataseries of all dates:\n",
    "dates = pd.Series(['02/04/19','02/05/19','02/06/19','02/07/19','02/08/19','02/09/19','02/10/19'])\n",
    "dates"
   ]
  },
  {
   "cell_type": "code",
   "execution_count": 15,
   "id": "cb665f36",
   "metadata": {},
   "outputs": [
    {
     "data": {
      "text/plain": [
       "0    2019-02-04\n",
       "1    2019-02-05\n",
       "2    2019-02-06\n",
       "3    2019-02-07\n",
       "4    2019-02-08\n",
       "5    2019-02-09\n",
       "6    2019-02-10\n",
       "dtype: object"
      ]
     },
     "execution_count": 15,
     "metadata": {},
     "output_type": "execute_result"
    }
   ],
   "source": [
    "#taking dates series: using str.replace to replace / with -:\n",
    "                    #\\d:any digit +:0-on,/:divider, \n",
    "                            #replaces to:20\\3rd divider here, then -, \\1st divider,\n",
    "                                #-, \\2nd divider\n",
    "        \n",
    "dates.str.replace(r'(\\d+)/(\\d+)/(\\d+)', r'20\\3-\\1-\\2', regex=True)"
   ]
  },
  {
   "cell_type": "markdown",
   "id": "b135411c",
   "metadata": {},
   "source": [
    "#### Another way of doing this:"
   ]
  },
  {
   "cell_type": "code",
   "execution_count": 64,
   "id": "6825ddcc",
   "metadata": {},
   "outputs": [
    {
     "data": {
      "text/plain": [
       "['02/05/19', '02/06/19', '02/07/19', '02/08/19', '02/09/19', '02/10/19']"
      ]
     },
     "execution_count": 64,
     "metadata": {},
     "output_type": "execute_result"
    }
   ],
   "source": [
    "date_list =['02/05/19',\n",
    "'02/06/19',\n",
    "'02/07/19',\n",
    "'02/08/19',\n",
    "'02/09/19',\n",
    "'02/10/19']\n",
    "\n",
    "date_list"
   ]
  },
  {
   "cell_type": "code",
   "execution_count": 71,
   "id": "e3e65641",
   "metadata": {},
   "outputs": [],
   "source": [
    "dates=pd.Series(date_list)"
   ]
  },
  {
   "cell_type": "code",
   "execution_count": 73,
   "id": "2e9cd7b3",
   "metadata": {},
   "outputs": [
    {
     "data": {
      "text/plain": [
       "0    02/05/19\n",
       "1    02/06/19\n",
       "2    02/07/19\n",
       "3    02/08/19\n",
       "4    02/09/19\n",
       "5    02/10/19\n",
       "dtype: object"
      ]
     },
     "execution_count": 73,
     "metadata": {},
     "output_type": "execute_result"
    }
   ],
   "source": [
    "dates"
   ]
  },
  {
   "cell_type": "code",
   "execution_count": 75,
   "id": "65fa1f8b",
   "metadata": {},
   "outputs": [
    {
     "data": {
      "text/plain": [
       "0    2019-02-05\n",
       "1    2019-02-06\n",
       "2    2019-02-07\n",
       "3    2019-02-08\n",
       "4    2019-02-09\n",
       "5    2019-02-10\n",
       "dtype: object"
      ]
     },
     "execution_count": 75,
     "metadata": {},
     "output_type": "execute_result"
    }
   ],
   "source": [
    "dates.str.replace(r'(\\d{2})/(\\d{2})/(\\d{2})', r'20\\3-\\1-\\2', regex = True)"
   ]
  },
  {
   "cell_type": "markdown",
   "id": "d305a708",
   "metadata": {},
   "source": [
    "________________________________________________________________"
   ]
  },
  {
   "cell_type": "markdown",
   "id": "8d0c128c",
   "metadata": {},
   "source": [
    "### Exercise 5)\n",
    "Write a regex to extract the various parts of these logfile lines:\n",
    "<br><br>GET /api/v1/sales?page=86 [16/Apr/2019:193452+0000] \n",
    "HTTP/1.1 {200} 510348 \"python-requests/2.21.0\" 97.105.19.58<br><br>\n",
    "POST /users_accounts/file-upload [16/Apr/2019:193452+0000] HTTP/1.1 {201} 42 \"User-Agent: Mozilla/5.0 (X11; Fedora; Fedora; Linux x86_64) AppleWebKit/537.36 (KHTML, like Gecko) Chrome/73.0.3683.86 Safari/537.36\" 97.105.19.58<br><br>\n",
    "GET /api/v1/items?page=3 [16/Apr/2019:193453+0000] HTTP/1.1 {429} 3561 \"python-requests/2.21.0\" 97.105.19.58\n"
   ]
  },
  {
   "cell_type": "code",
   "execution_count": 78,
   "id": "46356325",
   "metadata": {},
   "outputs": [],
   "source": [
    "log_file = r'''\n",
    "^(?P<method>GET|POST)\n",
    "\\s+\n",
    "(?P<path>.*?)\n",
    "\\s+\n",
    "\\[(?P<timestamp>.*?)\\]\n",
    "\\s+\n",
    "(?P<http_version>.*?)\n",
    "\\s+\n",
    "\\{(?P<status>\\d+)\\}\n",
    "\\s+\n",
    "(?P<bytes_sent>\\d+)\n",
    "\\s+\n",
    "\"(?P<user_agent>.*)\"\n",
    "\\s\n",
    "(?P<ip>.*)$\n",
    "'''"
   ]
  },
  {
   "cell_type": "code",
   "execution_count": 79,
   "id": "00c440f8",
   "metadata": {},
   "outputs": [],
   "source": [
    "lines = pd.Series(['GET /api/v1/sales?page=86 [16/Apr/2019:193452+0000] HTTP/1.1 {200} 510348 \"python-requests/2.21.0\" 97.105.19.58',\n",
    "                                'POST /users_accounts/file-upload [16/Apr/2019:193452+0000] HTTP/1.1 {201} 42 \"User-Agent: Mozilla/5.0 (X11; Fedora; Fedora; Linux x86_64) AppleWebKit/537.36 (KHTML, like Gecko) Chrome/73.0.3683.86 Safari/537.36\" 97.105.19.58',\n",
    "                                'GET /api/v1/items?page=3 [16/Apr/2019:193453+0000] HTTP/1.1 {429} 3561 \"python-requests/2.21.0\" 97.105.19.58'\n",
    "                               ])"
   ]
  },
  {
   "cell_type": "code",
   "execution_count": 81,
   "id": "5c24b48f",
   "metadata": {},
   "outputs": [
    {
     "data": {
      "text/plain": [
       "0    GET /api/v1/sales?page=86 [16/Apr/2019:193452+...\n",
       "1    POST /users_accounts/file-upload [16/Apr/2019:...\n",
       "2    GET /api/v1/items?page=3 [16/Apr/2019:193453+0...\n",
       "dtype: object"
      ]
     },
     "execution_count": 81,
     "metadata": {},
     "output_type": "execute_result"
    }
   ],
   "source": [
    "lines"
   ]
  },
  {
   "cell_type": "code",
   "execution_count": 83,
   "id": "a20cd641",
   "metadata": {},
   "outputs": [],
   "source": [
    "#create a column called log for the logfile lines in the df:\n",
    "df=lines.str.extract(log_file, re.VERBOSE)"
   ]
  },
  {
   "cell_type": "code",
   "execution_count": 87,
   "id": "49eddc40",
   "metadata": {},
   "outputs": [
    {
     "data": {
      "text/html": [
       "<div>\n",
       "<style scoped>\n",
       "    .dataframe tbody tr th:only-of-type {\n",
       "        vertical-align: middle;\n",
       "    }\n",
       "\n",
       "    .dataframe tbody tr th {\n",
       "        vertical-align: top;\n",
       "    }\n",
       "\n",
       "    .dataframe thead th {\n",
       "        text-align: right;\n",
       "    }\n",
       "</style>\n",
       "<table border=\"1\" class=\"dataframe\">\n",
       "  <thead>\n",
       "    <tr style=\"text-align: right;\">\n",
       "      <th></th>\n",
       "      <th>method</th>\n",
       "      <th>path</th>\n",
       "      <th>timestamp</th>\n",
       "      <th>http_version</th>\n",
       "      <th>status</th>\n",
       "      <th>bytes_sent</th>\n",
       "      <th>user_agent</th>\n",
       "      <th>ip</th>\n",
       "    </tr>\n",
       "  </thead>\n",
       "  <tbody>\n",
       "    <tr>\n",
       "      <th>0</th>\n",
       "      <td>GET</td>\n",
       "      <td>/api/v1/sales?page=86</td>\n",
       "      <td>16/Apr/2019:193452+0000</td>\n",
       "      <td>HTTP/1.1</td>\n",
       "      <td>200</td>\n",
       "      <td>510348</td>\n",
       "      <td>python-requests/2.21.0</td>\n",
       "      <td>97.105.19.58</td>\n",
       "    </tr>\n",
       "    <tr>\n",
       "      <th>1</th>\n",
       "      <td>POST</td>\n",
       "      <td>/users_accounts/file-upload</td>\n",
       "      <td>16/Apr/2019:193452+0000</td>\n",
       "      <td>HTTP/1.1</td>\n",
       "      <td>201</td>\n",
       "      <td>42</td>\n",
       "      <td>User-Agent: Mozilla/5.0 (X11; Fedora; Fedora; ...</td>\n",
       "      <td>97.105.19.58</td>\n",
       "    </tr>\n",
       "    <tr>\n",
       "      <th>2</th>\n",
       "      <td>GET</td>\n",
       "      <td>/api/v1/items?page=3</td>\n",
       "      <td>16/Apr/2019:193453+0000</td>\n",
       "      <td>HTTP/1.1</td>\n",
       "      <td>429</td>\n",
       "      <td>3561</td>\n",
       "      <td>python-requests/2.21.0</td>\n",
       "      <td>97.105.19.58</td>\n",
       "    </tr>\n",
       "  </tbody>\n",
       "</table>\n",
       "</div>"
      ],
      "text/plain": [
       "  method                         path                timestamp http_version  \\\n",
       "0    GET        /api/v1/sales?page=86  16/Apr/2019:193452+0000     HTTP/1.1   \n",
       "1   POST  /users_accounts/file-upload  16/Apr/2019:193452+0000     HTTP/1.1   \n",
       "2    GET         /api/v1/items?page=3  16/Apr/2019:193453+0000     HTTP/1.1   \n",
       "\n",
       "  status bytes_sent                                         user_agent  \\\n",
       "0    200     510348                             python-requests/2.21.0   \n",
       "1    201         42  User-Agent: Mozilla/5.0 (X11; Fedora; Fedora; ...   \n",
       "2    429       3561                             python-requests/2.21.0   \n",
       "\n",
       "             ip  \n",
       "0  97.105.19.58  \n",
       "1  97.105.19.58  \n",
       "2  97.105.19.58  "
      ]
     },
     "execution_count": 87,
     "metadata": {},
     "output_type": "execute_result"
    }
   ],
   "source": [
    "df"
   ]
  },
  {
   "cell_type": "code",
   "execution_count": 86,
   "id": "d3244ce7",
   "metadata": {},
   "outputs": [
    {
     "data": {
      "text/plain": [
       "method          object\n",
       "path            object\n",
       "timestamp       object\n",
       "http_version    object\n",
       "status          object\n",
       "bytes_sent      object\n",
       "user_agent      object\n",
       "ip              object\n",
       "dtype: object"
      ]
     },
     "execution_count": 86,
     "metadata": {},
     "output_type": "execute_result"
    }
   ],
   "source": [
    "df.dtypes"
   ]
  },
  {
   "cell_type": "markdown",
   "id": "1cdaf9e2",
   "metadata": {},
   "source": [
    "#### Another way:"
   ]
  },
  {
   "cell_type": "code",
   "execution_count": 34,
   "id": "39bbe2fb",
   "metadata": {},
   "outputs": [
    {
     "data": {
      "text/plain": [
       "('GET',\n",
       " '/api/v1/sales?page=86',\n",
       " '16/Apr/2019:193452+0000',\n",
       " 'HTTP/1.1',\n",
       " '{200}',\n",
       " '510348',\n",
       " '\"python-requests/2.21.0\"',\n",
       " '97.105.19.58')"
      ]
     },
     "execution_count": 34,
     "metadata": {},
     "output_type": "execute_result"
    }
   ],
   "source": [
    "#another way: using .groups() you can then later call these by name:\n",
    "match = re.search('(?P<method>[^ ]*) (?P<path>[^ ]*) \\[(?P<date_time>[^ ]*)\\] (?P<version>[^ ]*) (?P<number>[^ ]*) (?P<querynum>[^ ]*) (?P<language_request>[^ ]*) (?P<ip>[^ ]*)', text)\n",
    "match.groups()"
   ]
  },
  {
   "cell_type": "code",
   "execution_count": null,
   "id": "1301b840",
   "metadata": {},
   "outputs": [],
   "source": []
  }
 ],
 "metadata": {
  "kernelspec": {
   "display_name": "Python 3 (ipykernel)",
   "language": "python",
   "name": "python3"
  },
  "language_info": {
   "codemirror_mode": {
    "name": "ipython",
    "version": 3
   },
   "file_extension": ".py",
   "mimetype": "text/x-python",
   "name": "python",
   "nbconvert_exporter": "python",
   "pygments_lexer": "ipython3",
   "version": "3.9.7"
  }
 },
 "nbformat": 4,
 "nbformat_minor": 5
}
