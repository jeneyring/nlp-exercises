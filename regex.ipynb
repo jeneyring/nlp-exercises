{
 "cells": [
  {
   "cell_type": "code",
   "execution_count": 1,
   "id": "ec995aa5",
   "metadata": {},
   "outputs": [],
   "source": [
    "import pandas as pd\n",
    "import re"
   ]
  },
  {
   "cell_type": "markdown",
   "id": "b88d6c07",
   "metadata": {},
   "source": [
    "### Exercise 1)\n",
    "Write a function named `is_vowel`. It should accept a string as input and use a regular expression to determine if the passed string is a vowel. While not explicity mentioned in the lesson, you can treat the result of re.search as a boolean value that indicates whether or not the regular expression matches the given string."
   ]
  },
  {
   "cell_type": "code",
   "execution_count": 2,
   "id": "65558991",
   "metadata": {},
   "outputs": [
    {
     "data": {
      "text/plain": [
       "['o', 'a', 'o', 'e']"
      ]
     },
     "execution_count": 2,
     "metadata": {},
     "output_type": "execute_result"
    }
   ],
   "source": [
    "#trying out creating string inputs for finding only vowels.\n",
    "my_string = 'potatoe'\n",
    "#only accepts vowels:\n",
    "regexp = r'[aeiou]'\n",
    "#findall and return only vowel using regexp conditions and my_string input\n",
    "re.findall (regexp, my_string)"
   ]
  },
  {
   "cell_type": "code",
   "execution_count": 3,
   "id": "ac896b2d",
   "metadata": {},
   "outputs": [],
   "source": [
    "def is_vowel(my_string):\n",
    "    regexp = r'[aeiou]'\n",
    "    #to return a true/false statement, have the length of regexp see if greater than 0\n",
    "    return len(re.findall(regexp, my_string)) > 0"
   ]
  },
  {
   "cell_type": "code",
   "execution_count": 4,
   "id": "958d99ba",
   "metadata": {},
   "outputs": [
    {
     "data": {
      "text/plain": [
       "(True, True, True, False)"
      ]
     },
     "execution_count": 4,
     "metadata": {},
     "output_type": "execute_result"
    }
   ],
   "source": [
    "is_vowel('potatoe'), is_vowel('rubber duck'), is_vowel('a'), is_vowel('d')"
   ]
  },
  {
   "cell_type": "markdown",
   "id": "82203a8e",
   "metadata": {},
   "source": [
    "### Exercise 2)\n",
    "Write a function named is_valid_username that accepts a string as input.\n",
    "<br>A valid username starts with a lowercase letter, and only consists of lowercase letters, numbers, or the _ character. <br>It should also be no longer than 32 characters. The function should return either True or False depending on whether the passed string is a valid username.\n",
    "\n",
    "\n"
   ]
  },
  {
   "cell_type": "markdown",
   "id": "5ff7dce0",
   "metadata": {},
   "source": [
    "> is_valid_username('aaaaaaaaaaaaaaaaaaaaaaaaaaaaaaaaa')\n",
    "False\n",
    "> is_valid_username('codeup')\n",
    "True\n",
    "> is_valid_username('Codeup')\n",
    "False\n",
    "> is_valid_username('codeup123')\n",
    "True\n",
    "> is_valid_username('1codeup')\n",
    "False\n"
   ]
  },
  {
   "cell_type": "code",
   "execution_count": 9,
   "id": "8c3c55de",
   "metadata": {},
   "outputs": [
    {
     "data": {
      "text/plain": [
       "<re.Match object; span=(0, 1), match='c'>"
      ]
     },
     "execution_count": 9,
     "metadata": {},
     "output_type": "execute_result"
    }
   ],
   "source": [
    "#first, finding match if letter is lower case\n",
    "username = 'cDeiHt'\n",
    "#assing regex to start with and match the first lower case letter it comes to\n",
    "regexp = r'^[a-z]'\n",
    "\n",
    "re.search(regexp, username)"
   ]
  },
  {
   "cell_type": "code",
   "execution_count": 11,
   "id": "cd694fc0",
   "metadata": {},
   "outputs": [
    {
     "data": {
      "text/plain": [
       "[]"
      ]
     },
     "execution_count": 11,
     "metadata": {},
     "output_type": "execute_result"
    }
   ],
   "source": [
    "#now, seeing if this assigned regex can match lower case (but adding in upper to check) to longer names\n",
    "#with symbols:\n",
    "username = 'Totoro_Catbus141'\n",
    "#regex assigned = ^starting at[any letters]+[any letters, numbers 0-9, and _ symbols],\n",
    "#{range of username is 1-31}, $end\n",
    "regexp = r'^[a-z]+[a-z0-9_]{1,31}$'\n",
    "\n",
    "re.findall(regexp, username)\n",
    "#### doesn't accept as there are uppercase letters here"
   ]
  },
  {
   "cell_type": "code",
   "execution_count": 13,
   "id": "1c591291",
   "metadata": {},
   "outputs": [
    {
     "data": {
      "text/plain": [
       "<re.Match object; span=(0, 16), match='totoro_catbus141'>"
      ]
     },
     "execution_count": 13,
     "metadata": {},
     "output_type": "execute_result"
    }
   ],
   "source": [
    "#trying the same above but with lowercase letters:\n",
    "username = 'totoro_catbus141'\n",
    "#regex assigned = ^starting at[any letters]+[any letters, numbers 0-9, and _ symbols],\n",
    "#{range of username is 1-31}, $end\n",
    "regexp = r'^[a-z]+[a-z0-9_]{1,31}$'\n",
    "\n",
    "re.search(regexp, username)"
   ]
  },
  {
   "cell_type": "code",
   "execution_count": 14,
   "id": "2870af8a",
   "metadata": {},
   "outputs": [],
   "source": [
    "#creating function with above:\n",
    "def is_valid_username(username):\n",
    "    regexp = r'^[a-z]+[a-z0-9_]{1,31}$'\n",
    "    return len(re.findall(regexp, username)) > 0"
   ]
  },
  {
   "cell_type": "code",
   "execution_count": 17,
   "id": "9154defe",
   "metadata": {},
   "outputs": [
    {
     "name": "stdout",
     "output_type": "stream",
     "text": [
      "Is batman_car112 a valid username? True\n",
      "Is Codeup a valid username? False\n"
     ]
    }
   ],
   "source": [
    "print (\"Is batman_car112 a valid username?\", is_valid_username('batman_car112'))\n",
    "print (\"Is Codeup a valid username?\", is_valid_username('Codeup'))\n"
   ]
  },
  {
   "cell_type": "markdown",
   "id": "a8b8b16e",
   "metadata": {},
   "source": [
    "### Exercise 3)\n",
    "Write a regular expression to capture phone numbers. It should match all of the following:\n",
    "\n",
    "(210) 867 5309<br>\n",
    "+1 210.867.5309<br>\n",
    "867-5309<br>\n",
    "210-867-5309<br>\n",
    "\n"
   ]
  },
  {
   "cell_type": "code",
   "execution_count": 21,
   "id": "2aac46d2",
   "metadata": {},
   "outputs": [
    {
     "data": {
      "text/plain": [
       "<re.Match object; span=(0, 12), match='210-867-5309'>"
      ]
     },
     "execution_count": 21,
     "metadata": {},
     "output_type": "execute_result"
    }
   ],
   "source": [
    "phone_number = '210-867-5309'\n",
    "#assigning regext to accept 0-9, ()+- symbols, and + all after 0 range:\n",
    "regexp = r'[0-9()+-. ]+'\n",
    "re.match(regexp, phone_number)"
   ]
  },
  {
   "cell_type": "code",
   "execution_count": 22,
   "id": "d3a493c8",
   "metadata": {},
   "outputs": [
    {
     "data": {
      "text/plain": [
       "<re.Match object; span=(0, 15), match='+1 210.867.5309'>"
      ]
     },
     "execution_count": 22,
     "metadata": {},
     "output_type": "execute_result"
    }
   ],
   "source": [
    "phone_number2 = '+1 210.867.5309'\n",
    "re.match(regexp, phone_number2)"
   ]
  },
  {
   "cell_type": "code",
   "execution_count": 23,
   "id": "86b6ee4e",
   "metadata": {},
   "outputs": [
    {
     "data": {
      "text/plain": [
       "<re.Match object; span=(0, 8), match='867-5309'>"
      ]
     },
     "execution_count": 23,
     "metadata": {},
     "output_type": "execute_result"
    }
   ],
   "source": [
    "phone_number3 = '867-5309'\n",
    "re.match(regexp, phone_number3)"
   ]
  },
  {
   "cell_type": "code",
   "execution_count": 24,
   "id": "c6678896",
   "metadata": {},
   "outputs": [
    {
     "data": {
      "text/plain": [
       "<re.Match object; span=(0, 12), match='210-867-5309'>"
      ]
     },
     "execution_count": 24,
     "metadata": {},
     "output_type": "execute_result"
    }
   ],
   "source": [
    "phone_number4 = '210-867-5309'\n",
    "re.match(regexp, phone_number4)"
   ]
  },
  {
   "cell_type": "markdown",
   "id": "1c32b189",
   "metadata": {},
   "source": [
    "### Exercise 4)\n",
    "Use regular expressions to convert the dates below to the standardized year-month-day format.\n",
    "02/04/19<br>\n",
    "02/05/19<br>\n",
    "02/06/19<br>\n",
    "02/07/19<br>\n",
    "02/08/19<br>\n",
    "02/09/19<br>\n",
    "02/10/19\n",
    "\n"
   ]
  },
  {
   "cell_type": "code",
   "execution_count": 25,
   "id": "426f9580",
   "metadata": {},
   "outputs": [
    {
     "data": {
      "text/plain": [
       "0    02/04/19\n",
       "1    02/05/19\n",
       "2    02/06/19\n",
       "3    02/07/19\n",
       "4    02/08/19\n",
       "5    02/09/19\n",
       "6    02/10/19\n",
       "dtype: object"
      ]
     },
     "execution_count": 25,
     "metadata": {},
     "output_type": "execute_result"
    }
   ],
   "source": [
    "#creating a dataseries of all dates:\n",
    "dates = pd.Series(['02/04/19','02/05/19','02/06/19','02/07/19','02/08/19','02/09/19','02/10/19'])\n",
    "dates"
   ]
  },
  {
   "cell_type": "code",
   "execution_count": 48,
   "id": "cb665f36",
   "metadata": {},
   "outputs": [
    {
     "data": {
      "text/plain": [
       "0    2019-02-04\n",
       "1    2019-02-05\n",
       "2    2019-02-06\n",
       "3    2019-02-07\n",
       "4    2019-02-08\n",
       "5    2019-02-09\n",
       "6    2019-02-10\n",
       "dtype: object"
      ]
     },
     "execution_count": 48,
     "metadata": {},
     "output_type": "execute_result"
    }
   ],
   "source": [
    "#taking dates series: using str.replace to replace / with -:\n",
    "                    #\\d:any digit +:0-on,/:divider, \n",
    "                            #replaces to:20\\3rd divider here, then -, \\1st divider,\n",
    "                                #-, \\2nd divider\n",
    "        \n",
    "dates.str.replace(r'(\\d+)/(\\d+)/(\\d+)', r'20\\3-\\1-\\2', regex=True)"
   ]
  },
  {
   "cell_type": "markdown",
   "id": "8d0c128c",
   "metadata": {},
   "source": [
    "### Exercise 5)\n",
    "Write a regex to extract the various parts of these logfile lines:\n",
    "<br><br>GET /api/v1/sales?page=86 [16/Apr/2019:193452+0000] \n",
    "HTTP/1.1 {200} 510348 \"python-requests/2.21.0\" 97.105.19.58<br><br>\n",
    "POST /users_accounts/file-upload [16/Apr/2019:193452+0000] HTTP/1.1 {201} 42 \"User-Agent: Mozilla/5.0 (X11; Fedora; Fedora; Linux x86_64) AppleWebKit/537.36 (KHTML, like Gecko) Chrome/73.0.3683.86 Safari/537.36\" 97.105.19.58<br><br>\n",
    "GET /api/v1/items?page=3 [16/Apr/2019:193453+0000] HTTP/1.1 {429} 3561 \"python-requests/2.21.0\" 97.105.19.58\n"
   ]
  },
  {
   "cell_type": "code",
   "execution_count": 30,
   "id": "00c440f8",
   "metadata": {},
   "outputs": [],
   "source": [
    "logfile = pd.DataFrame(['GET /api/v1/sales?page=86 [16/Apr/2019:193452+0000] HTTP/1.1 {200} 510348 \"python-requests/2.21.0\" 97.105.19.58',\n",
    "                                'POST /users_accounts/file-upload [16/Apr/2019:193452+0000] HTTP/1.1 {201} 42 \"User-Agent: Mozilla/5.0 (X11; Fedora; Fedora; Linux x86_64) AppleWebKit/537.36 (KHTML, like Gecko) Chrome/73.0.3683.86 Safari/537.36\" 97.105.19.58',\n",
    "                                'GET /api/v1/items?page=3 [16/Apr/2019:193453+0000] HTTP/1.1 {429} 3561 \"python-requests/2.21.0\" 97.105.19.58'\n",
    "                               ])"
   ]
  },
  {
   "cell_type": "code",
   "execution_count": 31,
   "id": "a20cd641",
   "metadata": {},
   "outputs": [],
   "source": [
    "#create a column called log for the logfile lines in the df:\n",
    "logfile.columns = ['log']"
   ]
  },
  {
   "cell_type": "code",
   "execution_count": 32,
   "id": "14ff9212",
   "metadata": {},
   "outputs": [
    {
     "data": {
      "text/html": [
       "<div>\n",
       "<style scoped>\n",
       "    .dataframe tbody tr th:only-of-type {\n",
       "        vertical-align: middle;\n",
       "    }\n",
       "\n",
       "    .dataframe tbody tr th {\n",
       "        vertical-align: top;\n",
       "    }\n",
       "\n",
       "    .dataframe thead th {\n",
       "        text-align: right;\n",
       "    }\n",
       "</style>\n",
       "<table border=\"1\" class=\"dataframe\">\n",
       "  <thead>\n",
       "    <tr style=\"text-align: right;\">\n",
       "      <th></th>\n",
       "      <th>log</th>\n",
       "    </tr>\n",
       "  </thead>\n",
       "  <tbody>\n",
       "    <tr>\n",
       "      <th>0</th>\n",
       "      <td>GET /api/v1/sales?page=86 [16/Apr/2019:193452+...</td>\n",
       "    </tr>\n",
       "    <tr>\n",
       "      <th>1</th>\n",
       "      <td>POST /users_accounts/file-upload [16/Apr/2019:...</td>\n",
       "    </tr>\n",
       "    <tr>\n",
       "      <th>2</th>\n",
       "      <td>GET /api/v1/items?page=3 [16/Apr/2019:193453+0...</td>\n",
       "    </tr>\n",
       "  </tbody>\n",
       "</table>\n",
       "</div>"
      ],
      "text/plain": [
       "                                                 log\n",
       "0  GET /api/v1/sales?page=86 [16/Apr/2019:193452+...\n",
       "1  POST /users_accounts/file-upload [16/Apr/2019:...\n",
       "2  GET /api/v1/items?page=3 [16/Apr/2019:193453+0..."
      ]
     },
     "execution_count": 32,
     "metadata": {},
     "output_type": "execute_result"
    }
   ],
   "source": [
    "logfile"
   ]
  },
  {
   "cell_type": "code",
   "execution_count": 35,
   "id": "f11b3fa3",
   "metadata": {},
   "outputs": [
    {
     "data": {
      "text/plain": [
       "['GET /']"
      ]
     },
     "execution_count": 35,
     "metadata": {},
     "output_type": "execute_result"
    }
   ],
   "source": [
    "#first part of text\n",
    "text = 'GET /api/v1/sales?page=86 [16/Apr/2019:193452+0000] HTTP/1.1 {200} 510348 \"python-requests/2.21.0\" 97.105.19.58'\n",
    "regexp = r'^([A-Z]{,4}[ ]/)'\n",
    "\n",
    "re.findall(regexp, text)"
   ]
  },
  {
   "cell_type": "code",
   "execution_count": 46,
   "id": "41d475a5",
   "metadata": {},
   "outputs": [
    {
     "data": {
      "text/plain": [
       "[('GET /', 'api/', 'v1/')]"
      ]
     },
     "execution_count": 46,
     "metadata": {},
     "output_type": "execute_result"
    }
   ],
   "source": [
    "#second part) and to first and grabbing api/v1:\n",
    "regexp = r'^([A-Z]{,4}[ ]/)([a-z_]*/)([\\w*]{,2}/?)'\n",
    "re.findall(regexp, text)\n"
   ]
  },
  {
   "cell_type": "code",
   "execution_count": 50,
   "id": "8c94bb0e",
   "metadata": {},
   "outputs": [
    {
     "data": {
      "text/plain": [
       "[('GET /', 'api/', 'v1/', '')]"
      ]
     },
     "execution_count": 50,
     "metadata": {},
     "output_type": "execute_result"
    }
   ],
   "source": [
    "#adding in last part with alphanumeric and special characters:\n",
    "regexp = r'^([A-Z]{,4}[ ]/)([a-z_]*/)([\\w*]{,2}/)?([\\w*]{,2}/)?([\\w])'\n",
    "re.findall(regexp, text)"
   ]
  },
  {
   "cell_type": "code",
   "execution_count": 97,
   "id": "39bbe2fb",
   "metadata": {},
   "outputs": [
    {
     "data": {
      "text/plain": [
       "<re.Match object; span=(0, 51), match='GET /api/v1/sales?page=86 [16/Apr/2019:193452+000>"
      ]
     },
     "execution_count": 97,
     "metadata": {},
     "output_type": "execute_result"
    }
   ],
   "source": [
    "#another way:\n",
    "match = re.search('(?P<method>[^ ]*) (?P<path>[^ ]*) (?P<date_time>[^ ])*', text)\n",
    "match"
   ]
  },
  {
   "cell_type": "code",
   "execution_count": null,
   "id": "6a19ab94",
   "metadata": {},
   "outputs": [],
   "source": []
  },
  {
   "cell_type": "code",
   "execution_count": null,
   "id": "a9ff89c4",
   "metadata": {},
   "outputs": [],
   "source": []
  }
 ],
 "metadata": {
  "kernelspec": {
   "display_name": "Python 3 (ipykernel)",
   "language": "python",
   "name": "python3"
  },
  "language_info": {
   "codemirror_mode": {
    "name": "ipython",
    "version": 3
   },
   "file_extension": ".py",
   "mimetype": "text/x-python",
   "name": "python",
   "nbconvert_exporter": "python",
   "pygments_lexer": "ipython3",
   "version": "3.9.7"
  }
 },
 "nbformat": 4,
 "nbformat_minor": 5
}
